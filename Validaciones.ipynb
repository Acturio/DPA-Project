{
 "cells": [
  {
   "cell_type": "code",
   "execution_count": 1,
   "metadata": {
    "scrolled": false
   },
   "outputs": [],
   "source": [
    "from  src.pipeline import transformation as t\n",
    "from  src.pipeline import feature_engineering as fe\n",
    "from src.pipeline import modeling_complete as e"
   ]
  },
  {
   "cell_type": "code",
   "execution_count": 2,
   "metadata": {},
   "outputs": [],
   "source": [
    "from src.utils import utils as u"
   ]
  },
  {
   "cell_type": "code",
   "execution_count": 3,
   "metadata": {},
   "outputs": [],
   "source": [
    "path_pkl_clean= \"pkl_clean.pkl\"\n",
    "path_fe = \"fe_df.pkl\"\n",
    "path_origin = 'data/2020-02-02_.pkl'"
   ]
  },
  {
   "cell_type": "code",
   "execution_count": 4,
   "metadata": {},
   "outputs": [],
   "source": [
    "# df = u.load_df(path_origin)\n",
    "# df_clean = t.transform(df,path_pkl_clean )\n",
    "# df_fe = fe.feature_engineering(df_clean,path_fe )"
   ]
  },
  {
   "cell_type": "code",
   "execution_count": 5,
   "metadata": {
    "scrolled": true
   },
   "outputs": [],
   "source": [
    "# df_fe = u.load_df(path_fe)"
   ]
  },
  {
   "cell_type": "code",
   "execution_count": 6,
   "metadata": {
    "scrolled": true
   },
   "outputs": [],
   "source": [
    "# models = e.training(df_fe, path_save_models = 'model_exercise.pkl' , exercise=True)"
   ]
  },
  {
   "cell_type": "code",
   "execution_count": 7,
   "metadata": {},
   "outputs": [],
   "source": [
    "# models"
   ]
  },
  {
   "cell_type": "code",
   "execution_count": 8,
   "metadata": {},
   "outputs": [],
   "source": [
    "# metadata_models = e.metadata_models(models, fecha= '20210425')"
   ]
  },
  {
   "cell_type": "code",
   "execution_count": 9,
   "metadata": {},
   "outputs": [],
   "source": [
    "# metadata_models"
   ]
  },
  {
   "cell_type": "code",
   "execution_count": 10,
   "metadata": {},
   "outputs": [],
   "source": [
    "# best_model = e.best_model(models, 'best_model.pkl')"
   ]
  },
  {
   "cell_type": "code",
   "execution_count": 11,
   "metadata": {},
   "outputs": [],
   "source": [
    "best_model = u.load_df('best_model.pkl')"
   ]
  },
  {
   "cell_type": "code",
   "execution_count": 12,
   "metadata": {},
   "outputs": [],
   "source": [
    "# def metadata_best_model(best_model, fecha , path_save= 'metadata_best_model.pkl') : \n",
    "    \n",
    "#     df = pd.DataFrame(columns=['fecha', 'base_estimator','params', 'value_params', 'num_features', 'oob_score'])\n",
    "#     fecha= str(fecha)\n",
    "#     df['fecha']= [fecha]\n",
    "#     df['base_estimator']= ([best_model.base_estimator])\n",
    "#     df['params']=([best_model.estimator_params ])\n",
    "#     df['value_params'] = (best_model.get_params)\n",
    "#     df['num_features'] = (best_model.n_features_)\n",
    "#     df['oob_score'] = (best_model.oob_score_)\n",
    "    \n",
    "#     u.save_df(df, path_save)\n",
    "    \n",
    "#     return (df)"
   ]
  },
  {
   "cell_type": "code",
   "execution_count": 16,
   "metadata": {},
   "outputs": [],
   "source": [
    "metadata_best  = e.metadata_best_model(best_model, fecha='nmskna' , path_save= 'metadata_best_model.pkl') "
   ]
  },
  {
   "cell_type": "code",
   "execution_count": 17,
   "metadata": {},
   "outputs": [
    {
     "data": {
      "text/html": [
       "<div>\n",
       "<style scoped>\n",
       "    .dataframe tbody tr th:only-of-type {\n",
       "        vertical-align: middle;\n",
       "    }\n",
       "\n",
       "    .dataframe tbody tr th {\n",
       "        vertical-align: top;\n",
       "    }\n",
       "\n",
       "    .dataframe thead th {\n",
       "        text-align: right;\n",
       "    }\n",
       "</style>\n",
       "<table border=\"1\" class=\"dataframe\">\n",
       "  <thead>\n",
       "    <tr style=\"text-align: right;\">\n",
       "      <th></th>\n",
       "      <th>fecha</th>\n",
       "      <th>base_estimator</th>\n",
       "      <th>params</th>\n",
       "      <th>value_params</th>\n",
       "      <th>num_features</th>\n",
       "      <th>oob_score</th>\n",
       "    </tr>\n",
       "  </thead>\n",
       "  <tbody>\n",
       "    <tr>\n",
       "      <th>0</th>\n",
       "      <td>nmskna</td>\n",
       "      <td>DecisionTreeClassifier()</td>\n",
       "      <td>(criterion, max_depth, min_samples_split, min_...</td>\n",
       "      <td>&lt;bound method BaseEstimator.get_params of Rand...</td>\n",
       "      <td>23</td>\n",
       "      <td>0.779019</td>\n",
       "    </tr>\n",
       "  </tbody>\n",
       "</table>\n",
       "</div>"
      ],
      "text/plain": [
       "    fecha            base_estimator  \\\n",
       "0  nmskna  DecisionTreeClassifier()   \n",
       "\n",
       "                                              params  \\\n",
       "0  (criterion, max_depth, min_samples_split, min_...   \n",
       "\n",
       "                                        value_params  num_features  oob_score  \n",
       "0  <bound method BaseEstimator.get_params of Rand...            23   0.779019  "
      ]
     },
     "execution_count": 17,
     "metadata": {},
     "output_type": "execute_result"
    }
   ],
   "source": [
    "metadata_best"
   ]
  },
  {
   "cell_type": "code",
   "execution_count": null,
   "metadata": {},
   "outputs": [],
   "source": []
  },
  {
   "cell_type": "code",
   "execution_count": null,
   "metadata": {},
   "outputs": [],
   "source": []
  },
  {
   "cell_type": "code",
   "execution_count": null,
   "metadata": {},
   "outputs": [],
   "source": []
  },
  {
   "cell_type": "code",
   "execution_count": null,
   "metadata": {},
   "outputs": [],
   "source": []
  },
  {
   "cell_type": "code",
   "execution_count": null,
   "metadata": {},
   "outputs": [],
   "source": []
  }
 ],
 "metadata": {
  "kernelspec": {
   "display_name": "Python 3",
   "language": "python",
   "name": "python3"
  },
  "language_info": {
   "codemirror_mode": {
    "name": "ipython",
    "version": 3
   },
   "file_extension": ".py",
   "mimetype": "text/x-python",
   "name": "python",
   "nbconvert_exporter": "python",
   "pygments_lexer": "ipython3",
   "version": "3.8.5"
  }
 },
 "nbformat": 4,
 "nbformat_minor": 4
}
