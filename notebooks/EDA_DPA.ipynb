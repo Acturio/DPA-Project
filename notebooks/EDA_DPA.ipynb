{
 "cells": [
  {
   "cell_type": "markdown",
   "metadata": {},
   "source": [
    "# Food Inspections - CHECKPOINT #1\n",
    "\n",
    "- Karina Lizette Gamboa Puente\n",
    "- Miguel López Cruz\n",
    "- Oscar Arturo Bringas López\n",
    "- Aide Jazmín González Cruz\n",
    "\n",
    "\n"
   ]
  },
  {
   "cell_type": "markdown",
   "metadata": {},
   "source": [
    "## Requerimientos"
   ]
  },
  {
   "cell_type": "code",
   "execution_count": 1,
   "metadata": {},
   "outputs": [],
   "source": [
    "import os\n",
    "import sys\n",
    "import pandas as pd\n",
    "import numpy as np\n",
    "import matplotlib.pyplot as plt\n",
    "import seaborn as sns "
   ]
  },
  {
   "cell_type": "code",
   "execution_count": 2,
   "metadata": {},
   "outputs": [],
   "source": [
    "from os.path import dirname"
   ]
  },
  {
   "cell_type": "code",
   "execution_count": 3,
   "metadata": {},
   "outputs": [],
   "source": [
    "sys.path.append(dirname('../src'))"
   ]
  },
  {
   "cell_type": "code",
   "execution_count": 4,
   "metadata": {},
   "outputs": [],
   "source": [
    "from src import utils"
   ]
  },
  {
   "cell_type": "code",
   "execution_count": 12,
   "metadata": {},
   "outputs": [
    {
     "ename": "CalledProcessError",
     "evalue": "Command 'b'\\necho $PYTHONPATH\\n'' returned non-zero exit status 1.",
     "output_type": "error",
     "traceback": [
      "\u001b[1;31m---------------------------------------------------------------------------\u001b[0m",
      "\u001b[1;31mCalledProcessError\u001b[0m                        Traceback (most recent call last)",
      "\u001b[1;32m<ipython-input-12-5020f7e418d4>\u001b[0m in \u001b[0;36m<module>\u001b[1;34m\u001b[0m\n\u001b[1;32m----> 1\u001b[1;33m \u001b[0mget_ipython\u001b[0m\u001b[1;33m(\u001b[0m\u001b[1;33m)\u001b[0m\u001b[1;33m.\u001b[0m\u001b[0mrun_cell_magic\u001b[0m\u001b[1;33m(\u001b[0m\u001b[1;34m'bash'\u001b[0m\u001b[1;33m,\u001b[0m \u001b[1;34m''\u001b[0m\u001b[1;33m,\u001b[0m \u001b[1;34m'\\necho $PYTHONPATH\\n'\u001b[0m\u001b[1;33m)\u001b[0m\u001b[1;33m\u001b[0m\u001b[1;33m\u001b[0m\u001b[0m\n\u001b[0m",
      "\u001b[1;32m~\\anaconda3\\lib\\site-packages\\IPython\\core\\interactiveshell.py\u001b[0m in \u001b[0;36mrun_cell_magic\u001b[1;34m(self, magic_name, line, cell)\u001b[0m\n\u001b[0;32m   2380\u001b[0m             \u001b[1;32mwith\u001b[0m \u001b[0mself\u001b[0m\u001b[1;33m.\u001b[0m\u001b[0mbuiltin_trap\u001b[0m\u001b[1;33m:\u001b[0m\u001b[1;33m\u001b[0m\u001b[1;33m\u001b[0m\u001b[0m\n\u001b[0;32m   2381\u001b[0m                 \u001b[0margs\u001b[0m \u001b[1;33m=\u001b[0m \u001b[1;33m(\u001b[0m\u001b[0mmagic_arg_s\u001b[0m\u001b[1;33m,\u001b[0m \u001b[0mcell\u001b[0m\u001b[1;33m)\u001b[0m\u001b[1;33m\u001b[0m\u001b[1;33m\u001b[0m\u001b[0m\n\u001b[1;32m-> 2382\u001b[1;33m                 \u001b[0mresult\u001b[0m \u001b[1;33m=\u001b[0m \u001b[0mfn\u001b[0m\u001b[1;33m(\u001b[0m\u001b[1;33m*\u001b[0m\u001b[0margs\u001b[0m\u001b[1;33m,\u001b[0m \u001b[1;33m**\u001b[0m\u001b[0mkwargs\u001b[0m\u001b[1;33m)\u001b[0m\u001b[1;33m\u001b[0m\u001b[1;33m\u001b[0m\u001b[0m\n\u001b[0m\u001b[0;32m   2383\u001b[0m             \u001b[1;32mreturn\u001b[0m \u001b[0mresult\u001b[0m\u001b[1;33m\u001b[0m\u001b[1;33m\u001b[0m\u001b[0m\n\u001b[0;32m   2384\u001b[0m \u001b[1;33m\u001b[0m\u001b[0m\n",
      "\u001b[1;32m~\\anaconda3\\lib\\site-packages\\IPython\\core\\magics\\script.py\u001b[0m in \u001b[0;36mnamed_script_magic\u001b[1;34m(line, cell)\u001b[0m\n\u001b[0;32m    140\u001b[0m             \u001b[1;32melse\u001b[0m\u001b[1;33m:\u001b[0m\u001b[1;33m\u001b[0m\u001b[1;33m\u001b[0m\u001b[0m\n\u001b[0;32m    141\u001b[0m                 \u001b[0mline\u001b[0m \u001b[1;33m=\u001b[0m \u001b[0mscript\u001b[0m\u001b[1;33m\u001b[0m\u001b[1;33m\u001b[0m\u001b[0m\n\u001b[1;32m--> 142\u001b[1;33m             \u001b[1;32mreturn\u001b[0m \u001b[0mself\u001b[0m\u001b[1;33m.\u001b[0m\u001b[0mshebang\u001b[0m\u001b[1;33m(\u001b[0m\u001b[0mline\u001b[0m\u001b[1;33m,\u001b[0m \u001b[0mcell\u001b[0m\u001b[1;33m)\u001b[0m\u001b[1;33m\u001b[0m\u001b[1;33m\u001b[0m\u001b[0m\n\u001b[0m\u001b[0;32m    143\u001b[0m \u001b[1;33m\u001b[0m\u001b[0m\n\u001b[0;32m    144\u001b[0m         \u001b[1;31m# write a basic docstring:\u001b[0m\u001b[1;33m\u001b[0m\u001b[1;33m\u001b[0m\u001b[1;33m\u001b[0m\u001b[0m\n",
      "\u001b[1;32m<decorator-gen-104>\u001b[0m in \u001b[0;36mshebang\u001b[1;34m(self, line, cell)\u001b[0m\n",
      "\u001b[1;32m~\\anaconda3\\lib\\site-packages\\IPython\\core\\magic.py\u001b[0m in \u001b[0;36m<lambda>\u001b[1;34m(f, *a, **k)\u001b[0m\n\u001b[0;32m    185\u001b[0m     \u001b[1;31m# but it's overkill for just that one bit of state.\u001b[0m\u001b[1;33m\u001b[0m\u001b[1;33m\u001b[0m\u001b[1;33m\u001b[0m\u001b[0m\n\u001b[0;32m    186\u001b[0m     \u001b[1;32mdef\u001b[0m \u001b[0mmagic_deco\u001b[0m\u001b[1;33m(\u001b[0m\u001b[0marg\u001b[0m\u001b[1;33m)\u001b[0m\u001b[1;33m:\u001b[0m\u001b[1;33m\u001b[0m\u001b[1;33m\u001b[0m\u001b[0m\n\u001b[1;32m--> 187\u001b[1;33m         \u001b[0mcall\u001b[0m \u001b[1;33m=\u001b[0m \u001b[1;32mlambda\u001b[0m \u001b[0mf\u001b[0m\u001b[1;33m,\u001b[0m \u001b[1;33m*\u001b[0m\u001b[0ma\u001b[0m\u001b[1;33m,\u001b[0m \u001b[1;33m**\u001b[0m\u001b[0mk\u001b[0m\u001b[1;33m:\u001b[0m \u001b[0mf\u001b[0m\u001b[1;33m(\u001b[0m\u001b[1;33m*\u001b[0m\u001b[0ma\u001b[0m\u001b[1;33m,\u001b[0m \u001b[1;33m**\u001b[0m\u001b[0mk\u001b[0m\u001b[1;33m)\u001b[0m\u001b[1;33m\u001b[0m\u001b[1;33m\u001b[0m\u001b[0m\n\u001b[0m\u001b[0;32m    188\u001b[0m \u001b[1;33m\u001b[0m\u001b[0m\n\u001b[0;32m    189\u001b[0m         \u001b[1;32mif\u001b[0m \u001b[0mcallable\u001b[0m\u001b[1;33m(\u001b[0m\u001b[0marg\u001b[0m\u001b[1;33m)\u001b[0m\u001b[1;33m:\u001b[0m\u001b[1;33m\u001b[0m\u001b[1;33m\u001b[0m\u001b[0m\n",
      "\u001b[1;32m~\\anaconda3\\lib\\site-packages\\IPython\\core\\magics\\script.py\u001b[0m in \u001b[0;36mshebang\u001b[1;34m(self, line, cell)\u001b[0m\n\u001b[0;32m    243\u001b[0m             \u001b[0msys\u001b[0m\u001b[1;33m.\u001b[0m\u001b[0mstderr\u001b[0m\u001b[1;33m.\u001b[0m\u001b[0mflush\u001b[0m\u001b[1;33m(\u001b[0m\u001b[1;33m)\u001b[0m\u001b[1;33m\u001b[0m\u001b[1;33m\u001b[0m\u001b[0m\n\u001b[0;32m    244\u001b[0m         \u001b[1;32mif\u001b[0m \u001b[0margs\u001b[0m\u001b[1;33m.\u001b[0m\u001b[0mraise_error\u001b[0m \u001b[1;32mand\u001b[0m \u001b[0mp\u001b[0m\u001b[1;33m.\u001b[0m\u001b[0mreturncode\u001b[0m\u001b[1;33m!=\u001b[0m\u001b[1;36m0\u001b[0m\u001b[1;33m:\u001b[0m\u001b[1;33m\u001b[0m\u001b[1;33m\u001b[0m\u001b[0m\n\u001b[1;32m--> 245\u001b[1;33m             \u001b[1;32mraise\u001b[0m \u001b[0mCalledProcessError\u001b[0m\u001b[1;33m(\u001b[0m\u001b[0mp\u001b[0m\u001b[1;33m.\u001b[0m\u001b[0mreturncode\u001b[0m\u001b[1;33m,\u001b[0m \u001b[0mcell\u001b[0m\u001b[1;33m,\u001b[0m \u001b[0moutput\u001b[0m\u001b[1;33m=\u001b[0m\u001b[0mout\u001b[0m\u001b[1;33m,\u001b[0m \u001b[0mstderr\u001b[0m\u001b[1;33m=\u001b[0m\u001b[0merr\u001b[0m\u001b[1;33m)\u001b[0m\u001b[1;33m\u001b[0m\u001b[1;33m\u001b[0m\u001b[0m\n\u001b[0m\u001b[0;32m    246\u001b[0m \u001b[1;33m\u001b[0m\u001b[0m\n\u001b[0;32m    247\u001b[0m     \u001b[1;32mdef\u001b[0m \u001b[0m_run_script\u001b[0m\u001b[1;33m(\u001b[0m\u001b[0mself\u001b[0m\u001b[1;33m,\u001b[0m \u001b[0mp\u001b[0m\u001b[1;33m,\u001b[0m \u001b[0mcell\u001b[0m\u001b[1;33m,\u001b[0m \u001b[0mto_close\u001b[0m\u001b[1;33m)\u001b[0m\u001b[1;33m:\u001b[0m\u001b[1;33m\u001b[0m\u001b[1;33m\u001b[0m\u001b[0m\n",
      "\u001b[1;31mCalledProcessError\u001b[0m: Command 'b'\\necho $PYTHONPATH\\n'' returned non-zero exit status 1."
     ]
    }
   ],
   "source": [
    "%%bash\n",
    "\n",
    "echo $PYTHONPATH"
   ]
  },
  {
   "cell_type": "code",
   "execution_count": null,
   "metadata": {},
   "outputs": [],
   "source": [
    "#Funciones necesarias para el estudio y homologación de datos\n",
    "\n",
    "# def unicos_val_by_col(df_pkl):\n",
    "#     #Obtiene los valores únicos por columa, recibe un dataframe.\n",
    "#     for col in list(df_pkl):\n",
    "#         print(col + \": \" , len(df_pkl[col].unique().tolist()))\n",
    "        \n",
    "# def clean_column(col):\n",
    "#     return col.lower()\\\n",
    "#               .replace('/','_')\\\n",
    "#               .replace(' ','_')\n",
    "\n",
    "# def get_repeated_values(df_pkl, col, top):\n",
    "#     top_5 = df_pkl.groupby([col])[col]\\\n",
    "#                     .count()\\\n",
    "#                     .sort_values(ascending = False)\\\n",
    "#                     .head(3)\n",
    "#     indexes_top_5 = top_5.index\n",
    "    \n",
    "#     if ((top == 1) and (len(indexes_top_5) > 0)):\n",
    "#         return indexes_top_5[0]\n",
    "#     elif ((top == 2) and (len(indexes_top_5) > 1)):\n",
    "#         return indexes_top_5[1]\n",
    "#     elif ((top == 3) and (len(indexes_top_5) > 2)):\n",
    "#         return indexes_top_5[2]\n",
    "#     else: \n",
    "#         return 'undefined'\n",
    "    \n",
    "# # Para variable categóricas y fechas\n",
    "# def categorical_profiling(df, col):\n",
    "#     \"\"\"\n",
    "#     Profiling para variables categóricas.  \n",
    "#     :parametros: dataframe --> df ; columna a analizar --> col\n",
    "#     :return: diccionario de valores importantes\n",
    "#     \"\"\"\n",
    "#     profiling = {}\n",
    "\n",
    "#     profiling.update({'mode': df[col].mode().values,\n",
    "#                      'numero_categorias': df[col].nunique(),\n",
    "#                      'nombres_categoria': df[col].unique(),\n",
    "#                      'valores_unicos': df[col].nunique(),\n",
    "#                      'renglones_totales': df[col].size,\n",
    "#                      'faltantes_totales': df[col].isna().sum(),\n",
    "#                      'proporcion_faltantes': df[col].isna().sum()/df[col].size*100,                      \n",
    "#                      'top1': get_repeated_values(df, col, 1),\n",
    "#                      'top2': get_repeated_values(df, col, 2),\n",
    "#                      'top3': get_repeated_values(df, col, 3)})\n",
    "    \n",
    "#     return profiling\n",
    "\n",
    "# # Para variable fechas\n",
    "# def date_profiling(df_pkl, col):\n",
    "#     \"\"\"\n",
    "#     Profiling for categoric columns. \n",
    "    \n",
    "#     :param: column to analyze\n",
    "#     :return: dictionary\n",
    "#     \"\"\"\n",
    "#     profiling = {}\n",
    "\n",
    "#     profiling.update({'max': df_pkl[col].max(),\n",
    "#                      'min': df_pkl[col].min(),\n",
    "#                       'mode': df_pkl[col].mode().values,\n",
    "#                      'num_categories': df_pkl[col].nunique(),\n",
    "#                      'categories': df_pkl[col].unique(),\n",
    "#                      'uniques': df_pkl[col].nunique(),\n",
    "#                      'renglones_totales': df[col].size,\n",
    "#                      'faltantes_totales': df[col].isna().sum(),\n",
    "#                      'proporcion_faltantes': df[col].isna().sum()/df[col].size*100,                      \n",
    "#                      'missings': df_pkl[col].isna().sum()/df_pkl[col].size*100,\n",
    "#                      'top1_repeated': get_repeated_values(df_pkl, col, 1),\n",
    "#                      'top2_repeated': get_repeated_values(df_pkl, col, 2),\n",
    "#                      'top3_repeated': get_repeated_values(df_pkl, col, 3)})\n",
    "    \n",
    "#     return profiling\n",
    "\n",
    "# # Para variable númericas y geospacieles(latitud,longitud)\n",
    "# def numeric_profiling(df_pkl, col):\n",
    "#     \"\"\"\n",
    "#     Profiling for numeric columns. \n",
    "    \n",
    "#     :param: column to analyze\n",
    "#     :return: dictionary\n",
    "#     \"\"\"\n",
    "#     profiling = {}\n",
    "\n",
    "#     profiling.update({'max': df_pkl[col].max(),\n",
    "#                      'min': df_pkl[col].min(),\n",
    "#                      'mean': df_pkl[col].mean(),\n",
    "#                      'stdv': df_pkl[col].std(),\n",
    "#                      '25%': df_pkl[col].quantile(.25),\n",
    "#                      'median': df_pkl[col].median(),\n",
    "#                      '75%': df_pkl[col].quantile(.75),\n",
    "#                      'kurtosis': df_pkl[col].kurt(),\n",
    "#                      'skewness': df_pkl[col].skew(),\n",
    "#                      'uniques': df_pkl[col].nunique(),\n",
    "#                      'valores_unicos': df[col].nunique(),\n",
    "#                      'renglones_totales': df[col].size,\n",
    "#                      'faltantes_totales': df[col].isna().sum(),\n",
    "#                      'prop_missings': df_pkl[col].isna().sum()/df_pkl.shape[0]*100,\n",
    "#                      'top1_repeated': get_repeated_values(df_pkl, col, 1),\n",
    "#                      'top2_repeated': get_repeated_values(df_pkl, col, 2),\n",
    "#                      'top3_repeated': get_repeated_values(df_pkl, col, 3)})    \n",
    "    \n",
    "#     return profiling\n",
    "\n",
    "# # Gráficos -----------------------------------------------------------------------------------------------\n",
    "\n",
    "# # Función para crear gráficas de barra\n",
    "\n",
    "# def barplots(x,y,df,title, order, xlim, x_label, y_label):\n",
    "#     a = sns.barplot(x=x,y=y, data=df, order = df[order])\n",
    "#     a.xaxis.set_major_formatter(FuncFormatter(number_formatter))\n",
    "#     a.set_xlabel(x_label)\n",
    "#     a.set_ylabel(y_label)\n",
    "#     a.set_xlim(0,xlim)\n",
    "#     a.set_title(title)\n",
    "    \n",
    "    \n",
    "# # Función para crear gráficas de barra desagregadas por variable categórica\n",
    "    \n",
    "# def facet_grids(x,y,data,col):\n",
    "#     \"\"\"\n",
    "#     :param: x categorical variable\n",
    "#     :param: y response variable\n",
    "    \n",
    "#     \"\"\"\n",
    "#     a = sns.FacetGrid(data=data, col=col, col_wrap=4, sharex=False, sharey=False,\n",
    "#                  height=4.5, aspect=1.5)\n",
    "#     a.map_dataframe(sns.barplot, x=x, y=y)\n",
    "#     for ax in a.axes.flat:\n",
    "#         for label in ax.get_xticklabels():\n",
    "#             label.set_size(7)\n",
    "#             label.set_rotation(90)\n",
    "#         ax.yaxis.set_major_formatter(FuncFormatter(number_formatter))\n",
    "        \n",
    "# def number_formatter(number, pos=None):\n",
    "#     \"\"\"Convert a number into a human readable format.\"\"\"\n",
    "#     magnitude = 0\n",
    "#     while abs(number) >= 1000:\n",
    "#         magnitude += 1\n",
    "#         number /= 1000.0\n",
    "#     return '%.1f%s' % (number, ['', 'K', 'M', 'B', 'T', 'Q'][magnitude])"
   ]
  },
  {
   "cell_type": "markdown",
   "metadata": {},
   "source": [
    "## Datos "
   ]
  },
  {
   "cell_type": "code",
   "execution_count": 5,
   "metadata": {},
   "outputs": [
    {
     "data": {
      "text/html": [
       "<div>\n",
       "<style scoped>\n",
       "    .dataframe tbody tr th:only-of-type {\n",
       "        vertical-align: middle;\n",
       "    }\n",
       "\n",
       "    .dataframe tbody tr th {\n",
       "        vertical-align: top;\n",
       "    }\n",
       "\n",
       "    .dataframe thead th {\n",
       "        text-align: right;\n",
       "    }\n",
       "</style>\n",
       "<table border=\"1\" class=\"dataframe\">\n",
       "  <thead>\n",
       "    <tr style=\"text-align: right;\">\n",
       "      <th></th>\n",
       "      <th>Inspection ID</th>\n",
       "      <th>DBA Name</th>\n",
       "      <th>AKA Name</th>\n",
       "      <th>License #</th>\n",
       "      <th>Facility Type</th>\n",
       "      <th>Risk</th>\n",
       "      <th>Address</th>\n",
       "      <th>City</th>\n",
       "      <th>State</th>\n",
       "      <th>Zip</th>\n",
       "      <th>Inspection Date</th>\n",
       "      <th>Inspection Type</th>\n",
       "      <th>Results</th>\n",
       "      <th>Violations</th>\n",
       "      <th>Latitude</th>\n",
       "      <th>Longitude</th>\n",
       "      <th>Location</th>\n",
       "    </tr>\n",
       "  </thead>\n",
       "  <tbody>\n",
       "    <tr>\n",
       "      <th>0</th>\n",
       "      <td>2472776</td>\n",
       "      <td>HOT DOG STATION</td>\n",
       "      <td>HOT DOG STATION</td>\n",
       "      <td>2153527.0</td>\n",
       "      <td>Restaurant</td>\n",
       "      <td>Risk 1 (High)</td>\n",
       "      <td>4742 N KIMBALL AVE</td>\n",
       "      <td>CHICAGO</td>\n",
       "      <td>IL</td>\n",
       "      <td>60625.0</td>\n",
       "      <td>01/15/2021</td>\n",
       "      <td>Canvass Re-Inspection</td>\n",
       "      <td>Pass</td>\n",
       "      <td>56. ADEQUATE VENTILATION &amp; LIGHTING; DESIGNATE...</td>\n",
       "      <td>41.967856</td>\n",
       "      <td>-87.713497</td>\n",
       "      <td>(-87.7134972229382, 41.96785571643644)</td>\n",
       "    </tr>\n",
       "    <tr>\n",
       "      <th>1</th>\n",
       "      <td>2472716</td>\n",
       "      <td>TIERRA MEXICANA</td>\n",
       "      <td>TIERRA MEXICANA</td>\n",
       "      <td>2483240.0</td>\n",
       "      <td>Restaurant</td>\n",
       "      <td>Risk 1 (High)</td>\n",
       "      <td>5423 W BELMONT AVE</td>\n",
       "      <td>CHICAGO</td>\n",
       "      <td>IL</td>\n",
       "      <td>60641.0</td>\n",
       "      <td>01/14/2021</td>\n",
       "      <td>Canvass</td>\n",
       "      <td>Out of Business</td>\n",
       "      <td>NaN</td>\n",
       "      <td>41.938518</td>\n",
       "      <td>-87.762522</td>\n",
       "      <td>(-87.76252172746399, 41.938517967432716)</td>\n",
       "    </tr>\n",
       "    <tr>\n",
       "      <th>2</th>\n",
       "      <td>2472708</td>\n",
       "      <td>AQUA FOOD &amp; LIQUOR, INC.</td>\n",
       "      <td>AQUA FOOD &amp; LIQUOR, INC.</td>\n",
       "      <td>2762442.0</td>\n",
       "      <td>Grocery Store</td>\n",
       "      <td>Risk 3 (Low)</td>\n",
       "      <td>503 N LaSalle DR</td>\n",
       "      <td>Chicago</td>\n",
       "      <td>IL</td>\n",
       "      <td>60654.0</td>\n",
       "      <td>01/14/2021</td>\n",
       "      <td>License</td>\n",
       "      <td>Pass w/ Conditions</td>\n",
       "      <td>NaN</td>\n",
       "      <td>41.890917</td>\n",
       "      <td>-87.632414</td>\n",
       "      <td>(-87.63241429043457, 41.890917250209725)</td>\n",
       "    </tr>\n",
       "    <tr>\n",
       "      <th>3</th>\n",
       "      <td>2472722</td>\n",
       "      <td>CREPE HOUSE CAFE</td>\n",
       "      <td>CREPE HOUSE CAFE</td>\n",
       "      <td>2637127.0</td>\n",
       "      <td>Restaurant</td>\n",
       "      <td>Risk 1 (High)</td>\n",
       "      <td>5033 N ELSTON AVE</td>\n",
       "      <td>CHICAGO</td>\n",
       "      <td>IL</td>\n",
       "      <td>60630.0</td>\n",
       "      <td>01/14/2021</td>\n",
       "      <td>Canvass</td>\n",
       "      <td>Pass</td>\n",
       "      <td>55. PHYSICAL FACILITIES INSTALLED, MAINTAINED ...</td>\n",
       "      <td>41.972349</td>\n",
       "      <td>-87.746825</td>\n",
       "      <td>(-87.74682508578468, 41.97234928256036)</td>\n",
       "    </tr>\n",
       "    <tr>\n",
       "      <th>4</th>\n",
       "      <td>2472698</td>\n",
       "      <td>LINEAGE LOGISTICS,  PFS, LLC</td>\n",
       "      <td>LINEAGE LOGISTICS,  PFS, LLC</td>\n",
       "      <td>2762846.0</td>\n",
       "      <td>NaN</td>\n",
       "      <td>Risk 3 (Low)</td>\n",
       "      <td>4500 W ANN LURIE PL</td>\n",
       "      <td>CHICAGO</td>\n",
       "      <td>IL</td>\n",
       "      <td>60632.0</td>\n",
       "      <td>01/14/2021</td>\n",
       "      <td>License</td>\n",
       "      <td>Not Ready</td>\n",
       "      <td>NaN</td>\n",
       "      <td>41.816288</td>\n",
       "      <td>-87.736023</td>\n",
       "      <td>(-87.73602287216964, 41.81628771057973)</td>\n",
       "    </tr>\n",
       "  </tbody>\n",
       "</table>\n",
       "</div>"
      ],
      "text/plain": [
       "   Inspection ID                      DBA Name                      AKA Name  \\\n",
       "0        2472776               HOT DOG STATION               HOT DOG STATION   \n",
       "1        2472716               TIERRA MEXICANA               TIERRA MEXICANA   \n",
       "2        2472708      AQUA FOOD & LIQUOR, INC.      AQUA FOOD & LIQUOR, INC.   \n",
       "3        2472722              CREPE HOUSE CAFE              CREPE HOUSE CAFE   \n",
       "4        2472698  LINEAGE LOGISTICS,  PFS, LLC  LINEAGE LOGISTICS,  PFS, LLC   \n",
       "\n",
       "   License #  Facility Type           Risk               Address     City  \\\n",
       "0  2153527.0     Restaurant  Risk 1 (High)   4742 N KIMBALL AVE   CHICAGO   \n",
       "1  2483240.0     Restaurant  Risk 1 (High)   5423 W BELMONT AVE   CHICAGO   \n",
       "2  2762442.0  Grocery Store   Risk 3 (Low)     503 N LaSalle DR   Chicago   \n",
       "3  2637127.0     Restaurant  Risk 1 (High)    5033 N ELSTON AVE   CHICAGO   \n",
       "4  2762846.0            NaN   Risk 3 (Low)  4500 W ANN LURIE PL   CHICAGO   \n",
       "\n",
       "  State      Zip Inspection Date        Inspection Type             Results  \\\n",
       "0    IL  60625.0      01/15/2021  Canvass Re-Inspection                Pass   \n",
       "1    IL  60641.0      01/14/2021                Canvass     Out of Business   \n",
       "2    IL  60654.0      01/14/2021                License  Pass w/ Conditions   \n",
       "3    IL  60630.0      01/14/2021                Canvass                Pass   \n",
       "4    IL  60632.0      01/14/2021                License           Not Ready   \n",
       "\n",
       "                                          Violations   Latitude  Longitude  \\\n",
       "0  56. ADEQUATE VENTILATION & LIGHTING; DESIGNATE...  41.967856 -87.713497   \n",
       "1                                                NaN  41.938518 -87.762522   \n",
       "2                                                NaN  41.890917 -87.632414   \n",
       "3  55. PHYSICAL FACILITIES INSTALLED, MAINTAINED ...  41.972349 -87.746825   \n",
       "4                                                NaN  41.816288 -87.736023   \n",
       "\n",
       "                                   Location  \n",
       "0    (-87.7134972229382, 41.96785571643644)  \n",
       "1  (-87.76252172746399, 41.938517967432716)  \n",
       "2  (-87.63241429043457, 41.890917250209725)  \n",
       "3   (-87.74682508578468, 41.97234928256036)  \n",
       "4   (-87.73602287216964, 41.81628771057973)  "
      ]
     },
     "execution_count": 5,
     "metadata": {},
     "output_type": "execute_result"
    }
   ],
   "source": [
    "df = pd.read_csv(\"../data/Food_Inspections.csv\")\n",
    "df.head(5)"
   ]
  },
  {
   "cell_type": "markdown",
   "metadata": {},
   "source": [
    "## Profiling inicial\n",
    "**Obteniendo infromación general del dataset**\n",
    "\n",
    "- Filas y columnas"
   ]
  },
  {
   "cell_type": "code",
   "execution_count": null,
   "metadata": {},
   "outputs": [],
   "source": [
    "df.shape"
   ]
  },
  {
   "cell_type": "markdown",
   "metadata": {},
   "source": [
    "- Columnas y tipo de columnas"
   ]
  },
  {
   "cell_type": "code",
   "execution_count": null,
   "metadata": {},
   "outputs": [],
   "source": [
    "df.info()"
   ]
  },
  {
   "cell_type": "markdown",
   "metadata": {},
   "source": [
    "- Datos únicos por variable"
   ]
  },
  {
   "cell_type": "code",
   "execution_count": 6,
   "metadata": {
    "scrolled": true
   },
   "outputs": [
    {
     "ename": "AttributeError",
     "evalue": "module 'src.utils' has no attribute 'unicos_val_by_col'",
     "output_type": "error",
     "traceback": [
      "\u001b[1;31m---------------------------------------------------------------------------\u001b[0m",
      "\u001b[1;31mAttributeError\u001b[0m                            Traceback (most recent call last)",
      "\u001b[1;32m<ipython-input-6-a9201182b9ef>\u001b[0m in \u001b[0;36m<module>\u001b[1;34m\u001b[0m\n\u001b[1;32m----> 1\u001b[1;33m \u001b[0mutils\u001b[0m\u001b[1;33m.\u001b[0m\u001b[0municos_val_by_col\u001b[0m\u001b[1;33m(\u001b[0m\u001b[0mdf\u001b[0m\u001b[1;33m)\u001b[0m\u001b[1;33m\u001b[0m\u001b[1;33m\u001b[0m\u001b[0m\n\u001b[0m",
      "\u001b[1;31mAttributeError\u001b[0m: module 'src.utils' has no attribute 'unicos_val_by_col'"
     ]
    }
   ],
   "source": [
    "utils.unicos_val_by_col(df)"
   ]
  },
  {
   "cell_type": "markdown",
   "metadata": {},
   "source": [
    "**Data profiling**\n",
    "- Identificando cariables por tipo de dato.\n",
    "\n",
    "\n",
    "    - Variables numéricas"
   ]
  },
  {
   "cell_type": "code",
   "execution_count": 8,
   "metadata": {},
   "outputs": [
    {
     "data": {
      "text/plain": [
       "(5,\n",
       " array(['Inspection ID', 'License #', 'Zip', 'Latitude', 'Longitude'],\n",
       "       dtype=object))"
      ]
     },
     "execution_count": 8,
     "metadata": {},
     "output_type": "execute_result"
    }
   ],
   "source": [
    "number_variables = df.select_dtypes(include = 'number').columns.values\n",
    "(len(number_variables), number_variables)"
   ]
  },
  {
   "cell_type": "markdown",
   "metadata": {},
   "source": [
    "    - Fechas"
   ]
  },
  {
   "cell_type": "code",
   "execution_count": null,
   "metadata": {},
   "outputs": [],
   "source": [
    "dates_variables = df.select_dtypes(include = 'datetime').columns.values\n",
    "(len(dates_variables), dates_variables)"
   ]
  },
  {
   "cell_type": "markdown",
   "metadata": {},
   "source": [
    "    - Variables categóricas"
   ]
  },
  {
   "cell_type": "code",
   "execution_count": null,
   "metadata": {},
   "outputs": [],
   "source": [
    "category_variables = df.select_dtypes(include = 'category').columns.values\n",
    "(len(category_variables), category_variables)"
   ]
  },
  {
   "cell_type": "markdown",
   "metadata": {},
   "source": [
    "    - Strings "
   ]
  },
  {
   "cell_type": "code",
   "execution_count": null,
   "metadata": {},
   "outputs": [],
   "source": [
    "string_variables = df.select_dtypes(include = 'object').columns.values\n",
    "(len(string_variables), string_variables)"
   ]
  },
  {
   "cell_type": "markdown",
   "metadata": {},
   "source": [
    "**Para variables númericas**"
   ]
  },
  {
   "cell_type": "code",
   "execution_count": 10,
   "metadata": {},
   "outputs": [
    {
     "ename": "AttributeError",
     "evalue": "module 'src.utils' has no attribute 'numeric_profiling'",
     "output_type": "error",
     "traceback": [
      "\u001b[1;31m---------------------------------------------------------------------------\u001b[0m",
      "\u001b[1;31mAttributeError\u001b[0m                            Traceback (most recent call last)",
      "\u001b[1;32m<ipython-input-10-363158fd9e35>\u001b[0m in \u001b[0;36m<module>\u001b[1;34m\u001b[0m\n\u001b[1;32m----> 1\u001b[1;33m numeric_profiling_output = {elem: utils.numeric_profiling(df, elem)\\\n\u001b[0m\u001b[0;32m      2\u001b[0m                              for elem in number_variables}\n\u001b[0;32m      3\u001b[0m \u001b[1;33m\u001b[0m\u001b[0m\n\u001b[0;32m      4\u001b[0m \u001b[0mdf_numeric_profiling\u001b[0m \u001b[1;33m=\u001b[0m \u001b[0mpd\u001b[0m\u001b[1;33m.\u001b[0m\u001b[0mDataFrame\u001b[0m\u001b[1;33m(\u001b[0m\u001b[0mnumeric_profiling_output\u001b[0m\u001b[1;33m)\u001b[0m\u001b[1;33m.\u001b[0m\u001b[0mreset_index\u001b[0m\u001b[1;33m(\u001b[0m\u001b[1;33m)\u001b[0m\u001b[1;33m\u001b[0m\u001b[1;33m\u001b[0m\u001b[0m\n\u001b[0;32m      5\u001b[0m \u001b[0mdf_numeric_profiling\u001b[0m\u001b[1;33m.\u001b[0m\u001b[0mrename\u001b[0m\u001b[1;33m(\u001b[0m\u001b[0mcolumns\u001b[0m\u001b[1;33m=\u001b[0m\u001b[1;33m{\u001b[0m\u001b[1;34m'index'\u001b[0m\u001b[1;33m:\u001b[0m \u001b[1;34m'metric'\u001b[0m\u001b[1;33m}\u001b[0m\u001b[1;33m,\u001b[0m \u001b[0minplace\u001b[0m\u001b[1;33m=\u001b[0m\u001b[1;32mTrue\u001b[0m\u001b[1;33m)\u001b[0m\u001b[1;33m\u001b[0m\u001b[1;33m\u001b[0m\u001b[0m\n",
      "\u001b[1;32m<ipython-input-10-363158fd9e35>\u001b[0m in \u001b[0;36m<dictcomp>\u001b[1;34m(.0)\u001b[0m\n\u001b[1;32m----> 1\u001b[1;33m numeric_profiling_output = {elem: utils.numeric_profiling(df, elem)\\\n\u001b[0m\u001b[0;32m      2\u001b[0m                              for elem in number_variables}\n\u001b[0;32m      3\u001b[0m \u001b[1;33m\u001b[0m\u001b[0m\n\u001b[0;32m      4\u001b[0m \u001b[0mdf_numeric_profiling\u001b[0m \u001b[1;33m=\u001b[0m \u001b[0mpd\u001b[0m\u001b[1;33m.\u001b[0m\u001b[0mDataFrame\u001b[0m\u001b[1;33m(\u001b[0m\u001b[0mnumeric_profiling_output\u001b[0m\u001b[1;33m)\u001b[0m\u001b[1;33m.\u001b[0m\u001b[0mreset_index\u001b[0m\u001b[1;33m(\u001b[0m\u001b[1;33m)\u001b[0m\u001b[1;33m\u001b[0m\u001b[1;33m\u001b[0m\u001b[0m\n\u001b[0;32m      5\u001b[0m \u001b[0mdf_numeric_profiling\u001b[0m\u001b[1;33m.\u001b[0m\u001b[0mrename\u001b[0m\u001b[1;33m(\u001b[0m\u001b[0mcolumns\u001b[0m\u001b[1;33m=\u001b[0m\u001b[1;33m{\u001b[0m\u001b[1;34m'index'\u001b[0m\u001b[1;33m:\u001b[0m \u001b[1;34m'metric'\u001b[0m\u001b[1;33m}\u001b[0m\u001b[1;33m,\u001b[0m \u001b[0minplace\u001b[0m\u001b[1;33m=\u001b[0m\u001b[1;32mTrue\u001b[0m\u001b[1;33m)\u001b[0m\u001b[1;33m\u001b[0m\u001b[1;33m\u001b[0m\u001b[0m\n",
      "\u001b[1;31mAttributeError\u001b[0m: module 'src.utils' has no attribute 'numeric_profiling'"
     ]
    }
   ],
   "source": [
    "numeric_profiling_output = {elem: numeric_profiling(df, elem)\\\n",
    "                             for elem in number_variables}\n",
    "\n",
    "df_numeric_profiling = pd.DataFrame(numeric_profiling_output).reset_index()\n",
    "df_numeric_profiling.rename(columns={'index': 'metric'}, inplace=True)\n",
    "df_numeric_profiling"
   ]
  },
  {
   "cell_type": "markdown",
   "metadata": {},
   "source": [
    "**Para variables de fecha**"
   ]
  },
  {
   "cell_type": "code",
   "execution_count": null,
   "metadata": {},
   "outputs": [],
   "source": [
    "date_profiling_output = {elem: categorical_profiling(df, elem)\\\n",
    "                             for elem in dates_variables}\n",
    "\n",
    "df_date_profiling = pd.DataFrame(date_profiling_output).reset_index()\n",
    "df_date_profiling.rename(columns={'index': 'metric'}, inplace=True)\n",
    "df_date_profiling"
   ]
  },
  {
   "cell_type": "markdown",
   "metadata": {},
   "source": [
    "**Para variables categóricas**"
   ]
  },
  {
   "cell_type": "code",
   "execution_count": null,
   "metadata": {
    "scrolled": true
   },
   "outputs": [],
   "source": [
    "category_profiling_output = {elem: categorical_profiling(df, elem)\\\n",
    "                             for elem in string_variables}\n",
    "\n",
    "df_category_profiling = pd.DataFrame(category_profiling_output).reset_index()\n",
    "df_category_profiling.rename(columns={'index': 'metric'}, inplace=True)\n",
    "df_category_profiling"
   ]
  },
  {
   "cell_type": "markdown",
   "metadata": {},
   "source": [
    "### **Se identifica que es necesario el cambio de tipo de datos, limpieza de variables y creación de la variable de interés Label:**\n"
   ]
  },
  {
   "cell_type": "markdown",
   "metadata": {},
   "source": [
    "**Transformaciones**\n",
    "- Renombrando columnas"
   ]
  },
  {
   "cell_type": "code",
   "execution_count": null,
   "metadata": {},
   "outputs": [],
   "source": [
    "df.rename(columns={col: clean_column(col) for col in df.columns.values}, inplace=True)\n",
    "df.columns"
   ]
  },
  {
   "cell_type": "markdown",
   "metadata": {},
   "source": [
    "- Creando la variable `label`"
   ]
  },
  {
   "cell_type": "code",
   "execution_count": null,
   "metadata": {},
   "outputs": [],
   "source": [
    "df['label'] = np.where(df.results.isin(['Pass','Pass w/ Conditions']), 1, 0)"
   ]
  },
  {
   "cell_type": "markdown",
   "metadata": {},
   "source": [
    "- Convirtiendo inspection_date a date"
   ]
  },
  {
   "cell_type": "code",
   "execution_count": null,
   "metadata": {},
   "outputs": [],
   "source": [
    "df['inspection_date'] = pd.to_datetime(df['inspection_date'])"
   ]
  },
  {
   "cell_type": "markdown",
   "metadata": {},
   "source": [
    "- Convirtiendo ID a string"
   ]
  },
  {
   "cell_type": "code",
   "execution_count": null,
   "metadata": {},
   "outputs": [],
   "source": [
    "df['inspection_id'] = df['inspection_id'].astype(str)"
   ]
  },
  {
   "cell_type": "markdown",
   "metadata": {},
   "source": [
    "- Convirtiendo Licencia a string"
   ]
  },
  {
   "cell_type": "code",
   "execution_count": null,
   "metadata": {},
   "outputs": [],
   "source": [
    "df['license_#'] = df['license_#'].astype(str)"
   ]
  },
  {
   "cell_type": "markdown",
   "metadata": {},
   "source": [
    "- Convirtiendo ZIP a categorico"
   ]
  },
  {
   "cell_type": "code",
   "execution_count": null,
   "metadata": {},
   "outputs": [],
   "source": [
    " df['zip']= df['zip'].astype('category')"
   ]
  },
  {
   "cell_type": "markdown",
   "metadata": {},
   "source": [
    "Se hacen los cambios de las 3 últimas variables ya que se considera que no se obtiene información relevante obteniendo medidas de tendencia central de las vaiables de manera númerica.  "
   ]
  },
  {
   "cell_type": "markdown",
   "metadata": {},
   "source": [
    "#### Quisieramos conocer lo siguiente de nuestros datos:"
   ]
  },
  {
   "cell_type": "markdown",
   "metadata": {},
   "source": [
    "- ¿Cuántas inspecciones hay al día?"
   ]
  },
  {
   "cell_type": "code",
   "execution_count": null,
   "metadata": {},
   "outputs": [],
   "source": [
    "round(df.groupby(\"inspection_date\")[\"inspection_date\"].value_counts().mean(),1)"
   ]
  },
  {
   "cell_type": "markdown",
   "metadata": {},
   "source": [
    "- ¿Cuántos establecimientos hay por cada tipo de riesgo?"
   ]
  },
  {
   "cell_type": "code",
   "execution_count": null,
   "metadata": {},
   "outputs": [],
   "source": [
    "prop_codigo = df.groupby(['risk'], as_index=False)['inspection_date']\\\n",
    ".count()\\\n",
    ".rename(columns={'inspection_date': 'count'})\n",
    "prop_codigo['prop'] = prop_codigo['count']/np.sum(prop_codigo['count'])\n",
    "prop_codigo.sort_values(by = ['prop'], ascending = False)"
   ]
  },
  {
   "cell_type": "markdown",
   "metadata": {},
   "source": [
    "- ¿Cuántos establecimientos hay por tipo de resultado?"
   ]
  },
  {
   "cell_type": "code",
   "execution_count": null,
   "metadata": {},
   "outputs": [],
   "source": [
    "prop_codigo = df.groupby(['results'], as_index=False)['inspection_date']\\\n",
    ".count()\\\n",
    ".rename(columns={'inspection_date': 'count'})\n",
    "prop_codigo['prop'] = prop_codigo['count']/np.sum(prop_codigo['count'])\n",
    "prop_codigo.sort_values(by = ['prop'], ascending = False)"
   ]
  },
  {
   "cell_type": "markdown",
   "metadata": {},
   "source": [
    "- ¿Hay una relación entre el tipo de riesgo y el resultado obtenido de la inspección?"
   ]
  },
  {
   "cell_type": "code",
   "execution_count": null,
   "metadata": {},
   "outputs": [],
   "source": [
    "prop_codigo = df.groupby(['risk','results'], as_index=False)['inspection_date']\\\n",
    ".count()\\\n",
    ".rename(columns={'inspection_date': 'count'})\n",
    "prop_codigo['prop'] = prop_codigo['count']/np.sum(prop_codigo['count'])\n",
    "prop_codigo.sort_values(by = ['prop'], ascending = False)"
   ]
  },
  {
   "cell_type": "markdown",
   "metadata": {},
   "source": [
    "- Frecuencia de tipo de violaciones"
   ]
  },
  {
   "cell_type": "code",
   "execution_count": null,
   "metadata": {},
   "outputs": [],
   "source": [
    "prop_codigo = df.groupby(['violations'], as_index=False)['inspection_date']\\\n",
    ".count()\\\n",
    ".rename(columns={'inspection_date': 'count'})\n",
    "prop_codigo['prop'] = prop_codigo['count']/np.sum(prop_codigo['count'])\n",
    "prop_codigo.sort_values(by = ['prop'], ascending = False)"
   ]
  },
  {
   "cell_type": "markdown",
   "metadata": {},
   "source": [
    "- Tipo de establecimientos registrados"
   ]
  },
  {
   "cell_type": "code",
   "execution_count": null,
   "metadata": {
    "scrolled": true
   },
   "outputs": [],
   "source": [
    "prop_codigo = df.groupby(['facility_type'], as_index=False)['inspection_date']\\\n",
    ".count()\\\n",
    ".rename(columns={'inspection_date': 'count'})\n",
    "prop_codigo['prop'] = prop_codigo['count']/np.sum(prop_codigo['count'])\n",
    "prop_codigo.sort_values(by = ['prop'], ascending = False)"
   ]
  },
  {
   "cell_type": "code",
   "execution_count": null,
   "metadata": {},
   "outputs": [],
   "source": []
  },
  {
   "cell_type": "markdown",
   "metadata": {},
   "source": [
    "## GEDA"
   ]
  },
  {
   "cell_type": "markdown",
   "metadata": {},
   "source": [
    "* Distribución de la variable respuesta y la variable label"
   ]
  },
  {
   "cell_type": "markdown",
   "metadata": {},
   "source": [
    "Analizando los datos, se considera importante retirar los registros de aquellos establecimientos que no fueron encontrados o donde no se pudo realizar una inspección, esto debido a que no se conoce cuál hubiera sido el resultado de la inspección y para fines del proyecto se requiere conocer las carácteristicas de aquellos establecimiento que acreditaron o no la inspección."
   ]
  },
  {
   "cell_type": "code",
   "execution_count": null,
   "metadata": {},
   "outputs": [],
   "source": [
    "df_label = df[df.results.isin(['Pass','Pass w/ Conditions', 'Fail'])]"
   ]
  },
  {
   "cell_type": "code",
   "execution_count": null,
   "metadata": {
    "scrolled": false
   },
   "outputs": [],
   "source": [
    "fig = plt.figure(figsize=(20,8))\n",
    "fig.subplots_adjust(left=0.2, wspace=0.3)\n",
    "\n",
    "ax1 = plt.subplot2grid((1,2),(0,0))\n",
    "a = sns.barplot(x=df.results.value_counts().index, \n",
    "                    y=df.results.value_counts()/len(df), \n",
    "                    data=df,           \n",
    "                    palette='YlGnBu')\n",
    "plt.title(\"Proporción de resultados de la inspección \\n(variable de respuesta original) \\n\", size= 20)\n",
    "plt.xlabel(\"\\n Results\", size = 15)\n",
    "plt.ylabel(\"Proporción \\n\", size = 15)\n",
    "a.set_xticklabels(a.get_xticklabels(), rotation=30)\n",
    "a.yaxis.set_major_formatter(plt.FuncFormatter(number_formatter))\n",
    "\n",
    "ax1 = plt.subplot2grid((1,2),(0,1))\n",
    "b = sns.barplot(x=df_label.label.value_counts().index, \n",
    "                    y=df_label.label.value_counts()/len(df_label), \n",
    "                    data=df_label,           \n",
    "                    palette='YlGnBu')\n",
    "plt.title(\"Proporción de resultados de la inspección \\n(variable de respuesta nueva) \\n\", size= 20)\n",
    "plt.xlabel(\"\\n Etiqueta: Pass(1) Fail(0)\", size = 15)\n",
    "plt.ylabel(\"Proporción \\n\", size = 15)\n",
    "b.yaxis.set_major_formatter(plt.FuncFormatter(number_formatter))\n",
    "\n",
    "plt.show()"
   ]
  },
  {
   "cell_type": "markdown",
   "metadata": {},
   "source": [
    "* Distribución de la nueva variable respuesta y la variable Riesgo"
   ]
  },
  {
   "cell_type": "code",
   "execution_count": null,
   "metadata": {},
   "outputs": [],
   "source": [
    "riesgo_label = df_label.groupby(['risk', 'label'],\n",
    "                          as_index=False)['inspection_id']\\\n",
    "                          .count()\\\n",
    "                          .rename(columns={'inspection_id': 'registros'})"
   ]
  },
  {
   "cell_type": "code",
   "execution_count": null,
   "metadata": {},
   "outputs": [],
   "source": [
    "fig = plt.figure(figsize=(40,40))\n",
    "\n",
    "a = sns.FacetGrid(data=riesgo_label, col='risk', col_wrap=2, sharex=False, sharey=False,\n",
    "                 aspect=1.5)\n",
    "a.map_dataframe(sns.barplot, x='label', y='registros', palette = 'YlGnBu')\n",
    "for ax in a.axes.flat:\n",
    "    for label in ax.get_xticklabels():\n",
    "        label.set_size(11)\n",
    "        #label.set_rotation(50)\n",
    "        ax.yaxis.set_major_formatter(plt.FuncFormatter(number_formatter))\n",
    "        a.fig.tight_layout()\n",
    "\n",
    "plt.subplots_adjust(top=0.9)\n",
    "aux = a.fig.suptitle(\"Distribución de los inspecciones por tipo de riesgo y resultados de la inspección \\n \\n \\n\", fontsize=18)\n"
   ]
  },
  {
   "cell_type": "markdown",
   "metadata": {},
   "source": [
    "* Distribución de las inspecciones durante los años"
   ]
  },
  {
   "cell_type": "markdown",
   "metadata": {},
   "source": [
    "Transformación de fecha de inicio (año, mes y día)"
   ]
  },
  {
   "cell_type": "code",
   "execution_count": null,
   "metadata": {},
   "outputs": [],
   "source": [
    "df_label['ones'] = 1\n",
    "df_label['año_insp'] = df_label['inspection_date'].dt.year.astype(str) \n",
    "df_label['mes_insp'] = df_label['inspection_date'].dt.month.astype(str) \n",
    "df_label['dia_insp'] = df_label['inspection_date'].dt.day.astype(str) \n",
    "\n",
    "df_label[\"mes_insp\"].replace({\"1\": \"01\", \"2\": \"02\", \"3\": \"03\", \"4\": \"04\", \"5\": \"05\", \n",
    "                        \"6\": \"06\", \"7\": \"07\", \"8\": \"08\", \"9\": \"09\"}, inplace=True)"
   ]
  },
  {
   "cell_type": "code",
   "execution_count": null,
   "metadata": {},
   "outputs": [],
   "source": [
    "prop_codigo = df_label.groupby(['año_insp'], as_index=False)['inspection_date']\\\n",
    ".count()\\\n",
    ".rename(columns={'inspection_date': 'count'})\n",
    "prop_codigo['prop'] = prop_codigo['count']/np.sum(prop_codigo['count'])\n",
    "prop_codigo.sort_values(by = ['prop'], ascending = False)"
   ]
  },
  {
   "cell_type": "code",
   "execution_count": null,
   "metadata": {
    "scrolled": false
   },
   "outputs": [],
   "source": [
    "# sns.displot(data=df, y=\"mes_insp\")"
   ]
  },
  {
   "cell_type": "code",
   "execution_count": null,
   "metadata": {},
   "outputs": [],
   "source": [
    "pivot_2=df_label#.dropna()\n",
    "pivot_2=df_label[['mes_insp','año_insp','ones']]\\\n",
    "        .groupby(['mes_insp','año_insp']).sum().reset_index()\n",
    "pivot_2=pivot_2.pivot(index='mes_insp',columns='año_insp',values='ones')\n",
    "pivot_2=pd.DataFrame(pivot_2)\n",
    "pivot_2.reset_index(inplace=True)\n",
    "pivot_2 = pivot_2[['mes_insp','2010','2011','2012','2013','2014','2015','2016','2017','2018','2019','2020','2021']]"
   ]
  },
  {
   "cell_type": "code",
   "execution_count": null,
   "metadata": {
    "scrolled": false
   },
   "outputs": [],
   "source": [
    "# multiple line plot\n",
    "fig = plt.figure(figsize=(20,8))\n",
    "\n",
    "plt.plot('mes_insp', '2010', data=pivot_2, color='olive', linewidth=2)\n",
    "plt.plot('mes_insp', '2011', data=pivot_2, color='blue', linewidth=2)\n",
    "plt.plot('mes_insp', '2012', data=pivot_2, color='pink', linewidth=2)\n",
    "plt.plot('mes_insp', '2013', data=pivot_2, color='yellow', linewidth=2)\n",
    "plt.plot('mes_insp', '2014', data=pivot_2, color='red', linewidth=2)\n",
    "plt.plot('mes_insp', '2015', data=pivot_2, color='green', linewidth=2)\n",
    "plt.plot('mes_insp', '2016', data=pivot_2, color='purple', linewidth=2)\n",
    "plt.plot('mes_insp', '2017', data=pivot_2, color='lime', linewidth=2)\n",
    "plt.plot('mes_insp', '2018', data=pivot_2, color='cyan', linewidth=2)\n",
    "plt.plot('mes_insp', '2019', data=pivot_2, color='darkblue', linewidth=2)\n",
    "plt.plot('mes_insp', '2020', data=pivot_2, color='indigo', linewidth=2)\n",
    "plt.plot('mes_insp', '2021', data=pivot_2, color='salmon', linewidth=2)\n",
    "plt.title('Número de inspecciones por mes y año \\n', size = 17)\n",
    "plt.ylabel('Incidentes')\n",
    "plt.xlabel('Mes')\n",
    "aux = plt.legend(bbox_to_anchor=(1, 1), fontsize = 18)"
   ]
  },
  {
   "cell_type": "markdown",
   "metadata": {},
   "source": [
    "* Resultados de las inspecciones por año"
   ]
  },
  {
   "cell_type": "code",
   "execution_count": null,
   "metadata": {},
   "outputs": [],
   "source": [
    "año_label = df_label.groupby(['año_insp', 'label'],\n",
    "                          as_index=False)['inspection_id']\\\n",
    "                          .count()\\\n",
    "                          .rename(columns={'inspection_id': 'registros'})"
   ]
  },
  {
   "cell_type": "code",
   "execution_count": null,
   "metadata": {},
   "outputs": [],
   "source": [
    "# año_label"
   ]
  },
  {
   "cell_type": "code",
   "execution_count": null,
   "metadata": {},
   "outputs": [],
   "source": [
    "fig = plt.figure(figsize=(20,8))\n",
    "\n",
    "a = sns.FacetGrid(data=año_label, col='año_insp', col_wrap=4, sharex=False, sharey=False,\n",
    "                 aspect=1.5)\n",
    "a.map_dataframe(sns.barplot, x='label', y='registros', palette = 'YlGnBu')\n",
    "for ax in a.axes.flat:\n",
    "    for label in ax.get_xticklabels():\n",
    "        label.set_size(11)\n",
    "        #label.set_rotation(50)\n",
    "        ax.yaxis.set_major_formatter(plt.FuncFormatter(number_formatter))\n",
    "        a.fig.tight_layout()\n",
    "\n",
    "plt.subplots_adjust(top=0.9)\n",
    "aux = a.fig.suptitle(\"Distribución de inspecciones por año y resultados de la inspección \\n \\n \\n\", fontsize=18)\n"
   ]
  },
  {
   "cell_type": "markdown",
   "metadata": {},
   "source": [
    "* Distribución Geografica:"
   ]
  },
  {
   "cell_type": "code",
   "execution_count": null,
   "metadata": {},
   "outputs": [],
   "source": [
    "from IPython.display import Image\n",
    "Image(\"mapa_food_inspections.png\")"
   ]
  }
 ],
 "metadata": {
  "kernelspec": {
   "display_name": "Python 3",
   "language": "python",
   "name": "python3"
  },
  "language_info": {
   "codemirror_mode": {
    "name": "ipython",
    "version": 3
   },
   "file_extension": ".py",
   "mimetype": "text/x-python",
   "name": "python",
   "nbconvert_exporter": "python",
   "pygments_lexer": "ipython3",
   "version": "3.8.5"
  }
 },
 "nbformat": 4,
 "nbformat_minor": 4
}
