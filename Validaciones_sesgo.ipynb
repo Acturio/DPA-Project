{
 "cells": [
  {
   "cell_type": "code",
   "execution_count": 8,
   "metadata": {
    "scrolled": false
   },
   "outputs": [],
   "source": [
    "from os.path import dirname"
   ]
  },
  {
   "cell_type": "code",
   "execution_count": 9,
   "metadata": {},
   "outputs": [],
   "source": [
    "from src.pipeline import transformation as t\n",
    "from src.pipeline import feature_engineering as fe\n",
    "from src.pipeline import modeling_complete as e"
   ]
  },
  {
   "cell_type": "code",
   "execution_count": 10,
   "metadata": {},
   "outputs": [],
   "source": [
    "from src.utils import utils as u"
   ]
  },
  {
   "cell_type": "code",
   "execution_count": 11,
   "metadata": {},
   "outputs": [],
   "source": [
    "path_pkl_clean= \"pkl_clean.pkl\"\n",
    "path_fe = \"fe_df.pkl\"\n",
    "path_origin = 'data/2020-02-02_.pkl'"
   ]
  },
  {
   "cell_type": "code",
   "execution_count": 12,
   "metadata": {},
   "outputs": [
    {
     "name": "stdout",
     "output_type": "stream",
     "text": [
      "Inicio proceso: Transformación y limpieza\n",
      "Archivo 'pkl_transform.pkl' escrito correctamente\n",
      "Finalizó proceso:  Transformación y limpieza en  2.431375503540039\n",
      "Inicio proceso: feature_engineering\n",
      "Archivo 'pkl_fe.pkl' escrito correctamente\n",
      "Finalizó proceso: Feature engineering en  42.348289489746094\n"
     ]
    }
   ],
   "source": [
    "df = u.load_df(path_origin)\n",
    "df_clean = t.transform(df,path_pkl_clean )\n",
    "df_fe = fe.feature_engineering(df_clean,path_fe )"
   ]
  },
  {
   "cell_type": "code",
   "execution_count": 13,
   "metadata": {
    "scrolled": true
   },
   "outputs": [],
   "source": [
    "df_fe = u.load_df(path_fe)"
   ]
  },
  {
   "cell_type": "code",
   "execution_count": 14,
   "metadata": {},
   "outputs": [
    {
     "data": {
      "text/html": [
       "<div>\n",
       "<style scoped>\n",
       "    .dataframe tbody tr th:only-of-type {\n",
       "        vertical-align: middle;\n",
       "    }\n",
       "\n",
       "    .dataframe tbody tr th {\n",
       "        vertical-align: top;\n",
       "    }\n",
       "\n",
       "    .dataframe thead th {\n",
       "        text-align: right;\n",
       "    }\n",
       "</style>\n",
       "<table border=\"1\" class=\"dataframe\">\n",
       "  <thead>\n",
       "    <tr style=\"text-align: right;\">\n",
       "      <th></th>\n",
       "      <th>distance</th>\n",
       "      <th>distancia_ym_mht</th>\n",
       "      <th>distancia_ym</th>\n",
       "      <th>weekday</th>\n",
       "      <th>sin_day_no</th>\n",
       "      <th>cos_day_no</th>\n",
       "      <th>sin_week</th>\n",
       "      <th>cos_week</th>\n",
       "      <th>sin_month</th>\n",
       "      <th>cos_month</th>\n",
       "      <th>...</th>\n",
       "      <th>type_licuor</th>\n",
       "      <th>type_complaint</th>\n",
       "      <th>type_reinsp</th>\n",
       "      <th>type_illegal</th>\n",
       "      <th>type_not_ready</th>\n",
       "      <th>type_out_of_buss</th>\n",
       "      <th>type_prelicense</th>\n",
       "      <th>type_others</th>\n",
       "      <th>label</th>\n",
       "      <th>inspection_id</th>\n",
       "    </tr>\n",
       "  </thead>\n",
       "  <tbody>\n",
       "    <tr>\n",
       "      <th>0</th>\n",
       "      <td>0.255987</td>\n",
       "      <td>0.211147</td>\n",
       "      <td>0.254664</td>\n",
       "      <td>1.0</td>\n",
       "      <td>0.974928</td>\n",
       "      <td>-0.222521</td>\n",
       "      <td>0.118273</td>\n",
       "      <td>0.992981</td>\n",
       "      <td>0.500000</td>\n",
       "      <td>0.866025</td>\n",
       "      <td>...</td>\n",
       "      <td>0.0</td>\n",
       "      <td>0.0</td>\n",
       "      <td>0.0</td>\n",
       "      <td>0.0</td>\n",
       "      <td>0.0</td>\n",
       "      <td>0.0</td>\n",
       "      <td>0.0</td>\n",
       "      <td>1.0</td>\n",
       "      <td>0</td>\n",
       "      <td>67732</td>\n",
       "    </tr>\n",
       "    <tr>\n",
       "      <th>1</th>\n",
       "      <td>0.255987</td>\n",
       "      <td>0.211147</td>\n",
       "      <td>0.254664</td>\n",
       "      <td>1.0</td>\n",
       "      <td>0.974928</td>\n",
       "      <td>-0.222521</td>\n",
       "      <td>0.118273</td>\n",
       "      <td>0.992981</td>\n",
       "      <td>0.500000</td>\n",
       "      <td>0.866025</td>\n",
       "      <td>...</td>\n",
       "      <td>0.0</td>\n",
       "      <td>0.0</td>\n",
       "      <td>0.0</td>\n",
       "      <td>0.0</td>\n",
       "      <td>0.0</td>\n",
       "      <td>0.0</td>\n",
       "      <td>0.0</td>\n",
       "      <td>1.0</td>\n",
       "      <td>0</td>\n",
       "      <td>67733</td>\n",
       "    </tr>\n",
       "    <tr>\n",
       "      <th>2</th>\n",
       "      <td>0.135642</td>\n",
       "      <td>0.128663</td>\n",
       "      <td>0.141445</td>\n",
       "      <td>1.0</td>\n",
       "      <td>0.974928</td>\n",
       "      <td>-0.222521</td>\n",
       "      <td>0.118273</td>\n",
       "      <td>0.992981</td>\n",
       "      <td>0.500000</td>\n",
       "      <td>0.866025</td>\n",
       "      <td>...</td>\n",
       "      <td>0.0</td>\n",
       "      <td>0.0</td>\n",
       "      <td>0.0</td>\n",
       "      <td>0.0</td>\n",
       "      <td>0.0</td>\n",
       "      <td>0.0</td>\n",
       "      <td>0.0</td>\n",
       "      <td>1.0</td>\n",
       "      <td>1</td>\n",
       "      <td>104236</td>\n",
       "    </tr>\n",
       "    <tr>\n",
       "      <th>3</th>\n",
       "      <td>0.408313</td>\n",
       "      <td>0.391688</td>\n",
       "      <td>0.389293</td>\n",
       "      <td>1.0</td>\n",
       "      <td>0.974928</td>\n",
       "      <td>-0.222521</td>\n",
       "      <td>0.118273</td>\n",
       "      <td>0.992981</td>\n",
       "      <td>0.500000</td>\n",
       "      <td>0.866025</td>\n",
       "      <td>...</td>\n",
       "      <td>0.0</td>\n",
       "      <td>0.0</td>\n",
       "      <td>0.0</td>\n",
       "      <td>0.0</td>\n",
       "      <td>0.0</td>\n",
       "      <td>0.0</td>\n",
       "      <td>0.0</td>\n",
       "      <td>1.0</td>\n",
       "      <td>0</td>\n",
       "      <td>70269</td>\n",
       "    </tr>\n",
       "    <tr>\n",
       "      <th>4</th>\n",
       "      <td>0.124417</td>\n",
       "      <td>0.105266</td>\n",
       "      <td>0.127516</td>\n",
       "      <td>1.0</td>\n",
       "      <td>0.974928</td>\n",
       "      <td>-0.222521</td>\n",
       "      <td>0.118273</td>\n",
       "      <td>0.992981</td>\n",
       "      <td>0.500000</td>\n",
       "      <td>0.866025</td>\n",
       "      <td>...</td>\n",
       "      <td>0.0</td>\n",
       "      <td>0.0</td>\n",
       "      <td>0.0</td>\n",
       "      <td>0.0</td>\n",
       "      <td>0.0</td>\n",
       "      <td>0.0</td>\n",
       "      <td>0.0</td>\n",
       "      <td>1.0</td>\n",
       "      <td>0</td>\n",
       "      <td>67757</td>\n",
       "    </tr>\n",
       "    <tr>\n",
       "      <th>...</th>\n",
       "      <td>...</td>\n",
       "      <td>...</td>\n",
       "      <td>...</td>\n",
       "      <td>...</td>\n",
       "      <td>...</td>\n",
       "      <td>...</td>\n",
       "      <td>...</td>\n",
       "      <td>...</td>\n",
       "      <td>...</td>\n",
       "      <td>...</td>\n",
       "      <td>...</td>\n",
       "      <td>...</td>\n",
       "      <td>...</td>\n",
       "      <td>...</td>\n",
       "      <td>...</td>\n",
       "      <td>...</td>\n",
       "      <td>...</td>\n",
       "      <td>...</td>\n",
       "      <td>...</td>\n",
       "      <td>...</td>\n",
       "      <td>...</td>\n",
       "    </tr>\n",
       "    <tr>\n",
       "      <th>186169</th>\n",
       "      <td>0.185635</td>\n",
       "      <td>0.096180</td>\n",
       "      <td>0.091703</td>\n",
       "      <td>1.0</td>\n",
       "      <td>-0.974928</td>\n",
       "      <td>-0.222521</td>\n",
       "      <td>0.652822</td>\n",
       "      <td>0.757511</td>\n",
       "      <td>0.866025</td>\n",
       "      <td>0.500000</td>\n",
       "      <td>...</td>\n",
       "      <td>0.0</td>\n",
       "      <td>0.0</td>\n",
       "      <td>0.0</td>\n",
       "      <td>0.0</td>\n",
       "      <td>0.0</td>\n",
       "      <td>0.0</td>\n",
       "      <td>0.0</td>\n",
       "      <td>1.0</td>\n",
       "      <td>0</td>\n",
       "      <td>2484775</td>\n",
       "    </tr>\n",
       "    <tr>\n",
       "      <th>186170</th>\n",
       "      <td>0.131871</td>\n",
       "      <td>0.151008</td>\n",
       "      <td>0.177924</td>\n",
       "      <td>1.0</td>\n",
       "      <td>-0.974928</td>\n",
       "      <td>-0.222521</td>\n",
       "      <td>0.652822</td>\n",
       "      <td>0.757511</td>\n",
       "      <td>0.866025</td>\n",
       "      <td>0.500000</td>\n",
       "      <td>...</td>\n",
       "      <td>0.0</td>\n",
       "      <td>0.0</td>\n",
       "      <td>0.0</td>\n",
       "      <td>0.0</td>\n",
       "      <td>0.0</td>\n",
       "      <td>0.0</td>\n",
       "      <td>0.0</td>\n",
       "      <td>1.0</td>\n",
       "      <td>0</td>\n",
       "      <td>2484759</td>\n",
       "    </tr>\n",
       "    <tr>\n",
       "      <th>186171</th>\n",
       "      <td>0.423872</td>\n",
       "      <td>0.297947</td>\n",
       "      <td>0.334526</td>\n",
       "      <td>1.0</td>\n",
       "      <td>-0.974928</td>\n",
       "      <td>-0.222521</td>\n",
       "      <td>0.652822</td>\n",
       "      <td>0.757511</td>\n",
       "      <td>0.866025</td>\n",
       "      <td>0.500000</td>\n",
       "      <td>...</td>\n",
       "      <td>0.0</td>\n",
       "      <td>0.0</td>\n",
       "      <td>0.0</td>\n",
       "      <td>0.0</td>\n",
       "      <td>0.0</td>\n",
       "      <td>0.0</td>\n",
       "      <td>0.0</td>\n",
       "      <td>1.0</td>\n",
       "      <td>0</td>\n",
       "      <td>2484766</td>\n",
       "    </tr>\n",
       "    <tr>\n",
       "      <th>186172</th>\n",
       "      <td>0.121442</td>\n",
       "      <td>0.030539</td>\n",
       "      <td>0.028626</td>\n",
       "      <td>1.0</td>\n",
       "      <td>-0.974928</td>\n",
       "      <td>-0.222521</td>\n",
       "      <td>0.652822</td>\n",
       "      <td>0.757511</td>\n",
       "      <td>0.866025</td>\n",
       "      <td>0.500000</td>\n",
       "      <td>...</td>\n",
       "      <td>0.0</td>\n",
       "      <td>0.0</td>\n",
       "      <td>0.0</td>\n",
       "      <td>0.0</td>\n",
       "      <td>0.0</td>\n",
       "      <td>0.0</td>\n",
       "      <td>0.0</td>\n",
       "      <td>1.0</td>\n",
       "      <td>0</td>\n",
       "      <td>2484768</td>\n",
       "    </tr>\n",
       "    <tr>\n",
       "      <th>186173</th>\n",
       "      <td>0.213963</td>\n",
       "      <td>0.124728</td>\n",
       "      <td>0.119313</td>\n",
       "      <td>1.0</td>\n",
       "      <td>-0.974928</td>\n",
       "      <td>-0.222521</td>\n",
       "      <td>0.652822</td>\n",
       "      <td>0.757511</td>\n",
       "      <td>0.866025</td>\n",
       "      <td>0.500000</td>\n",
       "      <td>...</td>\n",
       "      <td>0.0</td>\n",
       "      <td>0.0</td>\n",
       "      <td>0.0</td>\n",
       "      <td>0.0</td>\n",
       "      <td>0.0</td>\n",
       "      <td>0.0</td>\n",
       "      <td>0.0</td>\n",
       "      <td>1.0</td>\n",
       "      <td>0</td>\n",
       "      <td>2484780</td>\n",
       "    </tr>\n",
       "  </tbody>\n",
       "</table>\n",
       "<p>186174 rows × 43 columns</p>\n",
       "</div>"
      ],
      "text/plain": [
       "        distance  distancia_ym_mht  distancia_ym  weekday  sin_day_no  \\\n",
       "0       0.255987          0.211147      0.254664      1.0    0.974928   \n",
       "1       0.255987          0.211147      0.254664      1.0    0.974928   \n",
       "2       0.135642          0.128663      0.141445      1.0    0.974928   \n",
       "3       0.408313          0.391688      0.389293      1.0    0.974928   \n",
       "4       0.124417          0.105266      0.127516      1.0    0.974928   \n",
       "...          ...               ...           ...      ...         ...   \n",
       "186169  0.185635          0.096180      0.091703      1.0   -0.974928   \n",
       "186170  0.131871          0.151008      0.177924      1.0   -0.974928   \n",
       "186171  0.423872          0.297947      0.334526      1.0   -0.974928   \n",
       "186172  0.121442          0.030539      0.028626      1.0   -0.974928   \n",
       "186173  0.213963          0.124728      0.119313      1.0   -0.974928   \n",
       "\n",
       "        cos_day_no  sin_week  cos_week  sin_month  cos_month  ...  \\\n",
       "0        -0.222521  0.118273  0.992981   0.500000   0.866025  ...   \n",
       "1        -0.222521  0.118273  0.992981   0.500000   0.866025  ...   \n",
       "2        -0.222521  0.118273  0.992981   0.500000   0.866025  ...   \n",
       "3        -0.222521  0.118273  0.992981   0.500000   0.866025  ...   \n",
       "4        -0.222521  0.118273  0.992981   0.500000   0.866025  ...   \n",
       "...            ...       ...       ...        ...        ...  ...   \n",
       "186169   -0.222521  0.652822  0.757511   0.866025   0.500000  ...   \n",
       "186170   -0.222521  0.652822  0.757511   0.866025   0.500000  ...   \n",
       "186171   -0.222521  0.652822  0.757511   0.866025   0.500000  ...   \n",
       "186172   -0.222521  0.652822  0.757511   0.866025   0.500000  ...   \n",
       "186173   -0.222521  0.652822  0.757511   0.866025   0.500000  ...   \n",
       "\n",
       "        type_licuor  type_complaint  type_reinsp  type_illegal  \\\n",
       "0               0.0             0.0          0.0           0.0   \n",
       "1               0.0             0.0          0.0           0.0   \n",
       "2               0.0             0.0          0.0           0.0   \n",
       "3               0.0             0.0          0.0           0.0   \n",
       "4               0.0             0.0          0.0           0.0   \n",
       "...             ...             ...          ...           ...   \n",
       "186169          0.0             0.0          0.0           0.0   \n",
       "186170          0.0             0.0          0.0           0.0   \n",
       "186171          0.0             0.0          0.0           0.0   \n",
       "186172          0.0             0.0          0.0           0.0   \n",
       "186173          0.0             0.0          0.0           0.0   \n",
       "\n",
       "        type_not_ready  type_out_of_buss  type_prelicense  type_others  label  \\\n",
       "0                  0.0               0.0              0.0          1.0      0   \n",
       "1                  0.0               0.0              0.0          1.0      0   \n",
       "2                  0.0               0.0              0.0          1.0      1   \n",
       "3                  0.0               0.0              0.0          1.0      0   \n",
       "4                  0.0               0.0              0.0          1.0      0   \n",
       "...                ...               ...              ...          ...    ...   \n",
       "186169             0.0               0.0              0.0          1.0      0   \n",
       "186170             0.0               0.0              0.0          1.0      0   \n",
       "186171             0.0               0.0              0.0          1.0      0   \n",
       "186172             0.0               0.0              0.0          1.0      0   \n",
       "186173             0.0               0.0              0.0          1.0      0   \n",
       "\n",
       "        inspection_id  \n",
       "0               67732  \n",
       "1               67733  \n",
       "2              104236  \n",
       "3               70269  \n",
       "4               67757  \n",
       "...               ...  \n",
       "186169        2484775  \n",
       "186170        2484759  \n",
       "186171        2484766  \n",
       "186172        2484768  \n",
       "186173        2484780  \n",
       "\n",
       "[186174 rows x 43 columns]"
      ]
     },
     "execution_count": 14,
     "metadata": {},
     "output_type": "execute_result"
    }
   ],
   "source": [
    "df_fe"
   ]
  },
  {
   "cell_type": "code",
   "execution_count": 15,
   "metadata": {
    "scrolled": true
   },
   "outputs": [
    {
     "name": "stdout",
     "output_type": "stream",
     "text": [
      "Selección de variables completada satisfactoriamente en  78.11729860305786  segundos\n",
      "Se concluye proceso de entrenamiento con datos completos en   495.720920085907  segundos\n"
     ]
    }
   ],
   "source": [
    "models = e.training(df_fe, path_save_models = 'model_exercise.pkl' , exercise=False)"
   ]
  },
  {
   "cell_type": "code",
   "execution_count": 16,
   "metadata": {},
   "outputs": [
    {
     "data": {
      "text/plain": [
       "[GridSearchCV(cv=TimeSeriesSplit(max_train_size=None, n_splits=5),\n",
       "              estimator=DecisionTreeClassifier(random_state=1111), n_jobs=-2,\n",
       "              param_grid={'max_depth': [5, 10, 15],\n",
       "                          'min_samples_leaf': [3, 5, 7]},\n",
       "              scoring='precision'),\n",
       " GridSearchCV(cv=TimeSeriesSplit(max_train_size=None, n_splits=5),\n",
       "              estimator=RandomForestClassifier(oob_score=True,\n",
       "                                               random_state=2222),\n",
       "              n_jobs=-2,\n",
       "              param_grid={'max_depth': [5, 10, 15],\n",
       "                          'min_samples_leaf': [3, 5, 10],\n",
       "                          'n_estimators': [30, 50, 100]},\n",
       "              scoring='precision'),\n",
       " GridSearchCV(cv=TimeSeriesSplit(max_train_size=None, n_splits=5),\n",
       "              estimator=LogisticRegression(random_state=3333), n_jobs=-2,\n",
       "              param_grid={'C': array([1.e-03, 1.e-02, 1.e-01, 1.e+00, 1.e+01, 1.e+02, 1.e+03]),\n",
       "                          'penalty': ['l1', 'l2']},\n",
       "              scoring='precision')]"
      ]
     },
     "execution_count": 16,
     "metadata": {},
     "output_type": "execute_result"
    }
   ],
   "source": [
    "models"
   ]
  },
  {
   "cell_type": "code",
   "execution_count": 17,
   "metadata": {},
   "outputs": [],
   "source": [
    "metadata_models = e.metadata_models(models, fecha= '20210425')"
   ]
  },
  {
   "cell_type": "code",
   "execution_count": 18,
   "metadata": {},
   "outputs": [
    {
     "data": {
      "text/html": [
       "<div>\n",
       "<style scoped>\n",
       "    .dataframe tbody tr th:only-of-type {\n",
       "        vertical-align: middle;\n",
       "    }\n",
       "\n",
       "    .dataframe tbody tr th {\n",
       "        vertical-align: top;\n",
       "    }\n",
       "\n",
       "    .dataframe thead th {\n",
       "        text-align: right;\n",
       "    }\n",
       "</style>\n",
       "<table border=\"1\" class=\"dataframe\">\n",
       "  <thead>\n",
       "    <tr style=\"text-align: right;\">\n",
       "      <th></th>\n",
       "      <th>fecha</th>\n",
       "      <th>estimator</th>\n",
       "      <th>scoring</th>\n",
       "      <th>params</th>\n",
       "      <th>mean_test_score</th>\n",
       "      <th>rank_test_score</th>\n",
       "    </tr>\n",
       "  </thead>\n",
       "  <tbody>\n",
       "    <tr>\n",
       "      <th>0</th>\n",
       "      <td>20210425</td>\n",
       "      <td>DecisionTreeClassifier(random_state=1111)</td>\n",
       "      <td>precision</td>\n",
       "      <td>{'max_depth': 5, 'min_samples_leaf': 3}</td>\n",
       "      <td>0.201848</td>\n",
       "      <td>8</td>\n",
       "    </tr>\n",
       "    <tr>\n",
       "      <th>1</th>\n",
       "      <td>20210425</td>\n",
       "      <td>DecisionTreeClassifier(random_state=1111)</td>\n",
       "      <td>precision</td>\n",
       "      <td>{'max_depth': 5, 'min_samples_leaf': 5}</td>\n",
       "      <td>0.201848</td>\n",
       "      <td>8</td>\n",
       "    </tr>\n",
       "    <tr>\n",
       "      <th>2</th>\n",
       "      <td>20210425</td>\n",
       "      <td>DecisionTreeClassifier(random_state=1111)</td>\n",
       "      <td>precision</td>\n",
       "      <td>{'max_depth': 5, 'min_samples_leaf': 7}</td>\n",
       "      <td>0.202198</td>\n",
       "      <td>7</td>\n",
       "    </tr>\n",
       "    <tr>\n",
       "      <th>3</th>\n",
       "      <td>20210425</td>\n",
       "      <td>DecisionTreeClassifier(random_state=1111)</td>\n",
       "      <td>precision</td>\n",
       "      <td>{'max_depth': 10, 'min_samples_leaf': 3}</td>\n",
       "      <td>0.214605</td>\n",
       "      <td>5</td>\n",
       "    </tr>\n",
       "    <tr>\n",
       "      <th>4</th>\n",
       "      <td>20210425</td>\n",
       "      <td>DecisionTreeClassifier(random_state=1111)</td>\n",
       "      <td>precision</td>\n",
       "      <td>{'max_depth': 10, 'min_samples_leaf': 5}</td>\n",
       "      <td>0.210266</td>\n",
       "      <td>6</td>\n",
       "    </tr>\n",
       "    <tr>\n",
       "      <th>5</th>\n",
       "      <td>20210425</td>\n",
       "      <td>DecisionTreeClassifier(random_state=1111)</td>\n",
       "      <td>precision</td>\n",
       "      <td>{'max_depth': 10, 'min_samples_leaf': 7}</td>\n",
       "      <td>0.220691</td>\n",
       "      <td>3</td>\n",
       "    </tr>\n",
       "    <tr>\n",
       "      <th>6</th>\n",
       "      <td>20210425</td>\n",
       "      <td>DecisionTreeClassifier(random_state=1111)</td>\n",
       "      <td>precision</td>\n",
       "      <td>{'max_depth': 15, 'min_samples_leaf': 3}</td>\n",
       "      <td>0.220330</td>\n",
       "      <td>4</td>\n",
       "    </tr>\n",
       "    <tr>\n",
       "      <th>7</th>\n",
       "      <td>20210425</td>\n",
       "      <td>DecisionTreeClassifier(random_state=1111)</td>\n",
       "      <td>precision</td>\n",
       "      <td>{'max_depth': 15, 'min_samples_leaf': 5}</td>\n",
       "      <td>0.225172</td>\n",
       "      <td>2</td>\n",
       "    </tr>\n",
       "    <tr>\n",
       "      <th>8</th>\n",
       "      <td>20210425</td>\n",
       "      <td>DecisionTreeClassifier(random_state=1111)</td>\n",
       "      <td>precision</td>\n",
       "      <td>{'max_depth': 15, 'min_samples_leaf': 7}</td>\n",
       "      <td>0.225589</td>\n",
       "      <td>1</td>\n",
       "    </tr>\n",
       "    <tr>\n",
       "      <th>0</th>\n",
       "      <td>20210425</td>\n",
       "      <td>RandomForestClassifier(oob_score=True, random_...</td>\n",
       "      <td>precision</td>\n",
       "      <td>{'max_depth': 5, 'min_samples_leaf': 3, 'n_est...</td>\n",
       "      <td>0.000000</td>\n",
       "      <td>18</td>\n",
       "    </tr>\n",
       "    <tr>\n",
       "      <th>1</th>\n",
       "      <td>20210425</td>\n",
       "      <td>RandomForestClassifier(oob_score=True, random_...</td>\n",
       "      <td>precision</td>\n",
       "      <td>{'max_depth': 5, 'min_samples_leaf': 3, 'n_est...</td>\n",
       "      <td>0.000000</td>\n",
       "      <td>18</td>\n",
       "    </tr>\n",
       "    <tr>\n",
       "      <th>2</th>\n",
       "      <td>20210425</td>\n",
       "      <td>RandomForestClassifier(oob_score=True, random_...</td>\n",
       "      <td>precision</td>\n",
       "      <td>{'max_depth': 5, 'min_samples_leaf': 3, 'n_est...</td>\n",
       "      <td>0.000000</td>\n",
       "      <td>18</td>\n",
       "    </tr>\n",
       "    <tr>\n",
       "      <th>3</th>\n",
       "      <td>20210425</td>\n",
       "      <td>RandomForestClassifier(oob_score=True, random_...</td>\n",
       "      <td>precision</td>\n",
       "      <td>{'max_depth': 5, 'min_samples_leaf': 5, 'n_est...</td>\n",
       "      <td>0.000000</td>\n",
       "      <td>18</td>\n",
       "    </tr>\n",
       "    <tr>\n",
       "      <th>4</th>\n",
       "      <td>20210425</td>\n",
       "      <td>RandomForestClassifier(oob_score=True, random_...</td>\n",
       "      <td>precision</td>\n",
       "      <td>{'max_depth': 5, 'min_samples_leaf': 5, 'n_est...</td>\n",
       "      <td>0.000000</td>\n",
       "      <td>18</td>\n",
       "    </tr>\n",
       "    <tr>\n",
       "      <th>5</th>\n",
       "      <td>20210425</td>\n",
       "      <td>RandomForestClassifier(oob_score=True, random_...</td>\n",
       "      <td>precision</td>\n",
       "      <td>{'max_depth': 5, 'min_samples_leaf': 5, 'n_est...</td>\n",
       "      <td>0.000000</td>\n",
       "      <td>18</td>\n",
       "    </tr>\n",
       "    <tr>\n",
       "      <th>6</th>\n",
       "      <td>20210425</td>\n",
       "      <td>RandomForestClassifier(oob_score=True, random_...</td>\n",
       "      <td>precision</td>\n",
       "      <td>{'max_depth': 5, 'min_samples_leaf': 10, 'n_es...</td>\n",
       "      <td>0.000000</td>\n",
       "      <td>18</td>\n",
       "    </tr>\n",
       "    <tr>\n",
       "      <th>7</th>\n",
       "      <td>20210425</td>\n",
       "      <td>RandomForestClassifier(oob_score=True, random_...</td>\n",
       "      <td>precision</td>\n",
       "      <td>{'max_depth': 5, 'min_samples_leaf': 10, 'n_es...</td>\n",
       "      <td>0.000000</td>\n",
       "      <td>18</td>\n",
       "    </tr>\n",
       "    <tr>\n",
       "      <th>8</th>\n",
       "      <td>20210425</td>\n",
       "      <td>RandomForestClassifier(oob_score=True, random_...</td>\n",
       "      <td>precision</td>\n",
       "      <td>{'max_depth': 5, 'min_samples_leaf': 10, 'n_es...</td>\n",
       "      <td>0.000000</td>\n",
       "      <td>18</td>\n",
       "    </tr>\n",
       "    <tr>\n",
       "      <th>9</th>\n",
       "      <td>20210425</td>\n",
       "      <td>RandomForestClassifier(oob_score=True, random_...</td>\n",
       "      <td>precision</td>\n",
       "      <td>{'max_depth': 10, 'min_samples_leaf': 3, 'n_es...</td>\n",
       "      <td>0.265517</td>\n",
       "      <td>2</td>\n",
       "    </tr>\n",
       "    <tr>\n",
       "      <th>10</th>\n",
       "      <td>20210425</td>\n",
       "      <td>RandomForestClassifier(oob_score=True, random_...</td>\n",
       "      <td>precision</td>\n",
       "      <td>{'max_depth': 10, 'min_samples_leaf': 3, 'n_es...</td>\n",
       "      <td>0.100000</td>\n",
       "      <td>7</td>\n",
       "    </tr>\n",
       "    <tr>\n",
       "      <th>11</th>\n",
       "      <td>20210425</td>\n",
       "      <td>RandomForestClassifier(oob_score=True, random_...</td>\n",
       "      <td>precision</td>\n",
       "      <td>{'max_depth': 10, 'min_samples_leaf': 3, 'n_es...</td>\n",
       "      <td>0.095652</td>\n",
       "      <td>11</td>\n",
       "    </tr>\n",
       "    <tr>\n",
       "      <th>12</th>\n",
       "      <td>20210425</td>\n",
       "      <td>RandomForestClassifier(oob_score=True, random_...</td>\n",
       "      <td>precision</td>\n",
       "      <td>{'max_depth': 10, 'min_samples_leaf': 5, 'n_es...</td>\n",
       "      <td>0.100000</td>\n",
       "      <td>7</td>\n",
       "    </tr>\n",
       "    <tr>\n",
       "      <th>13</th>\n",
       "      <td>20210425</td>\n",
       "      <td>RandomForestClassifier(oob_score=True, random_...</td>\n",
       "      <td>precision</td>\n",
       "      <td>{'max_depth': 10, 'min_samples_leaf': 5, 'n_es...</td>\n",
       "      <td>0.093333</td>\n",
       "      <td>12</td>\n",
       "    </tr>\n",
       "    <tr>\n",
       "      <th>14</th>\n",
       "      <td>20210425</td>\n",
       "      <td>RandomForestClassifier(oob_score=True, random_...</td>\n",
       "      <td>precision</td>\n",
       "      <td>{'max_depth': 10, 'min_samples_leaf': 5, 'n_es...</td>\n",
       "      <td>0.100000</td>\n",
       "      <td>7</td>\n",
       "    </tr>\n",
       "    <tr>\n",
       "      <th>15</th>\n",
       "      <td>20210425</td>\n",
       "      <td>RandomForestClassifier(oob_score=True, random_...</td>\n",
       "      <td>precision</td>\n",
       "      <td>{'max_depth': 10, 'min_samples_leaf': 10, 'n_e...</td>\n",
       "      <td>0.133333</td>\n",
       "      <td>5</td>\n",
       "    </tr>\n",
       "    <tr>\n",
       "      <th>16</th>\n",
       "      <td>20210425</td>\n",
       "      <td>RandomForestClassifier(oob_score=True, random_...</td>\n",
       "      <td>precision</td>\n",
       "      <td>{'max_depth': 10, 'min_samples_leaf': 10, 'n_e...</td>\n",
       "      <td>0.000000</td>\n",
       "      <td>18</td>\n",
       "    </tr>\n",
       "    <tr>\n",
       "      <th>17</th>\n",
       "      <td>20210425</td>\n",
       "      <td>RandomForestClassifier(oob_score=True, random_...</td>\n",
       "      <td>precision</td>\n",
       "      <td>{'max_depth': 10, 'min_samples_leaf': 10, 'n_e...</td>\n",
       "      <td>0.066667</td>\n",
       "      <td>16</td>\n",
       "    </tr>\n",
       "    <tr>\n",
       "      <th>18</th>\n",
       "      <td>20210425</td>\n",
       "      <td>RandomForestClassifier(oob_score=True, random_...</td>\n",
       "      <td>precision</td>\n",
       "      <td>{'max_depth': 15, 'min_samples_leaf': 3, 'n_es...</td>\n",
       "      <td>0.184895</td>\n",
       "      <td>3</td>\n",
       "    </tr>\n",
       "    <tr>\n",
       "      <th>19</th>\n",
       "      <td>20210425</td>\n",
       "      <td>RandomForestClassifier(oob_score=True, random_...</td>\n",
       "      <td>precision</td>\n",
       "      <td>{'max_depth': 15, 'min_samples_leaf': 3, 'n_es...</td>\n",
       "      <td>0.099129</td>\n",
       "      <td>10</td>\n",
       "    </tr>\n",
       "    <tr>\n",
       "      <th>20</th>\n",
       "      <td>20210425</td>\n",
       "      <td>RandomForestClassifier(oob_score=True, random_...</td>\n",
       "      <td>precision</td>\n",
       "      <td>{'max_depth': 15, 'min_samples_leaf': 3, 'n_es...</td>\n",
       "      <td>0.119940</td>\n",
       "      <td>6</td>\n",
       "    </tr>\n",
       "    <tr>\n",
       "      <th>21</th>\n",
       "      <td>20210425</td>\n",
       "      <td>RandomForestClassifier(oob_score=True, random_...</td>\n",
       "      <td>precision</td>\n",
       "      <td>{'max_depth': 15, 'min_samples_leaf': 5, 'n_es...</td>\n",
       "      <td>0.277895</td>\n",
       "      <td>1</td>\n",
       "    </tr>\n",
       "    <tr>\n",
       "      <th>22</th>\n",
       "      <td>20210425</td>\n",
       "      <td>RandomForestClassifier(oob_score=True, random_...</td>\n",
       "      <td>precision</td>\n",
       "      <td>{'max_depth': 15, 'min_samples_leaf': 5, 'n_es...</td>\n",
       "      <td>0.077500</td>\n",
       "      <td>13</td>\n",
       "    </tr>\n",
       "    <tr>\n",
       "      <th>23</th>\n",
       "      <td>20210425</td>\n",
       "      <td>RandomForestClassifier(oob_score=True, random_...</td>\n",
       "      <td>precision</td>\n",
       "      <td>{'max_depth': 15, 'min_samples_leaf': 5, 'n_es...</td>\n",
       "      <td>0.076923</td>\n",
       "      <td>14</td>\n",
       "    </tr>\n",
       "    <tr>\n",
       "      <th>24</th>\n",
       "      <td>20210425</td>\n",
       "      <td>RandomForestClassifier(oob_score=True, random_...</td>\n",
       "      <td>precision</td>\n",
       "      <td>{'max_depth': 15, 'min_samples_leaf': 10, 'n_e...</td>\n",
       "      <td>0.156000</td>\n",
       "      <td>4</td>\n",
       "    </tr>\n",
       "    <tr>\n",
       "      <th>25</th>\n",
       "      <td>20210425</td>\n",
       "      <td>RandomForestClassifier(oob_score=True, random_...</td>\n",
       "      <td>precision</td>\n",
       "      <td>{'max_depth': 15, 'min_samples_leaf': 10, 'n_e...</td>\n",
       "      <td>0.076190</td>\n",
       "      <td>15</td>\n",
       "    </tr>\n",
       "    <tr>\n",
       "      <th>26</th>\n",
       "      <td>20210425</td>\n",
       "      <td>RandomForestClassifier(oob_score=True, random_...</td>\n",
       "      <td>precision</td>\n",
       "      <td>{'max_depth': 15, 'min_samples_leaf': 10, 'n_e...</td>\n",
       "      <td>0.066667</td>\n",
       "      <td>16</td>\n",
       "    </tr>\n",
       "    <tr>\n",
       "      <th>0</th>\n",
       "      <td>20210425</td>\n",
       "      <td>LogisticRegression(random_state=3333)</td>\n",
       "      <td>precision</td>\n",
       "      <td>{'C': 0.001, 'penalty': 'l1'}</td>\n",
       "      <td>NaN</td>\n",
       "      <td>8</td>\n",
       "    </tr>\n",
       "    <tr>\n",
       "      <th>1</th>\n",
       "      <td>20210425</td>\n",
       "      <td>LogisticRegression(random_state=3333)</td>\n",
       "      <td>precision</td>\n",
       "      <td>{'C': 0.001, 'penalty': 'l2'}</td>\n",
       "      <td>0.000000</td>\n",
       "      <td>2</td>\n",
       "    </tr>\n",
       "    <tr>\n",
       "      <th>2</th>\n",
       "      <td>20210425</td>\n",
       "      <td>LogisticRegression(random_state=3333)</td>\n",
       "      <td>precision</td>\n",
       "      <td>{'C': 0.01, 'penalty': 'l1'}</td>\n",
       "      <td>NaN</td>\n",
       "      <td>9</td>\n",
       "    </tr>\n",
       "    <tr>\n",
       "      <th>3</th>\n",
       "      <td>20210425</td>\n",
       "      <td>LogisticRegression(random_state=3333)</td>\n",
       "      <td>precision</td>\n",
       "      <td>{'C': 0.01, 'penalty': 'l2'}</td>\n",
       "      <td>0.000000</td>\n",
       "      <td>2</td>\n",
       "    </tr>\n",
       "    <tr>\n",
       "      <th>4</th>\n",
       "      <td>20210425</td>\n",
       "      <td>LogisticRegression(random_state=3333)</td>\n",
       "      <td>precision</td>\n",
       "      <td>{'C': 0.1, 'penalty': 'l1'}</td>\n",
       "      <td>NaN</td>\n",
       "      <td>10</td>\n",
       "    </tr>\n",
       "    <tr>\n",
       "      <th>5</th>\n",
       "      <td>20210425</td>\n",
       "      <td>LogisticRegression(random_state=3333)</td>\n",
       "      <td>precision</td>\n",
       "      <td>{'C': 0.1, 'penalty': 'l2'}</td>\n",
       "      <td>0.000000</td>\n",
       "      <td>2</td>\n",
       "    </tr>\n",
       "    <tr>\n",
       "      <th>6</th>\n",
       "      <td>20210425</td>\n",
       "      <td>LogisticRegression(random_state=3333)</td>\n",
       "      <td>precision</td>\n",
       "      <td>{'C': 1.0, 'penalty': 'l1'}</td>\n",
       "      <td>NaN</td>\n",
       "      <td>11</td>\n",
       "    </tr>\n",
       "    <tr>\n",
       "      <th>7</th>\n",
       "      <td>20210425</td>\n",
       "      <td>LogisticRegression(random_state=3333)</td>\n",
       "      <td>precision</td>\n",
       "      <td>{'C': 1.0, 'penalty': 'l2'}</td>\n",
       "      <td>0.000000</td>\n",
       "      <td>2</td>\n",
       "    </tr>\n",
       "    <tr>\n",
       "      <th>8</th>\n",
       "      <td>20210425</td>\n",
       "      <td>LogisticRegression(random_state=3333)</td>\n",
       "      <td>precision</td>\n",
       "      <td>{'C': 10.0, 'penalty': 'l1'}</td>\n",
       "      <td>NaN</td>\n",
       "      <td>12</td>\n",
       "    </tr>\n",
       "    <tr>\n",
       "      <th>9</th>\n",
       "      <td>20210425</td>\n",
       "      <td>LogisticRegression(random_state=3333)</td>\n",
       "      <td>precision</td>\n",
       "      <td>{'C': 10.0, 'penalty': 'l2'}</td>\n",
       "      <td>0.000000</td>\n",
       "      <td>2</td>\n",
       "    </tr>\n",
       "    <tr>\n",
       "      <th>10</th>\n",
       "      <td>20210425</td>\n",
       "      <td>LogisticRegression(random_state=3333)</td>\n",
       "      <td>precision</td>\n",
       "      <td>{'C': 100.0, 'penalty': 'l1'}</td>\n",
       "      <td>NaN</td>\n",
       "      <td>13</td>\n",
       "    </tr>\n",
       "    <tr>\n",
       "      <th>11</th>\n",
       "      <td>20210425</td>\n",
       "      <td>LogisticRegression(random_state=3333)</td>\n",
       "      <td>precision</td>\n",
       "      <td>{'C': 100.0, 'penalty': 'l2'}</td>\n",
       "      <td>0.000000</td>\n",
       "      <td>2</td>\n",
       "    </tr>\n",
       "    <tr>\n",
       "      <th>12</th>\n",
       "      <td>20210425</td>\n",
       "      <td>LogisticRegression(random_state=3333)</td>\n",
       "      <td>precision</td>\n",
       "      <td>{'C': 1000.0, 'penalty': 'l1'}</td>\n",
       "      <td>NaN</td>\n",
       "      <td>14</td>\n",
       "    </tr>\n",
       "    <tr>\n",
       "      <th>13</th>\n",
       "      <td>20210425</td>\n",
       "      <td>LogisticRegression(random_state=3333)</td>\n",
       "      <td>precision</td>\n",
       "      <td>{'C': 1000.0, 'penalty': 'l2'}</td>\n",
       "      <td>0.050000</td>\n",
       "      <td>1</td>\n",
       "    </tr>\n",
       "  </tbody>\n",
       "</table>\n",
       "</div>"
      ],
      "text/plain": [
       "       fecha                                          estimator    scoring  \\\n",
       "0   20210425          DecisionTreeClassifier(random_state=1111)  precision   \n",
       "1   20210425          DecisionTreeClassifier(random_state=1111)  precision   \n",
       "2   20210425          DecisionTreeClassifier(random_state=1111)  precision   \n",
       "3   20210425          DecisionTreeClassifier(random_state=1111)  precision   \n",
       "4   20210425          DecisionTreeClassifier(random_state=1111)  precision   \n",
       "5   20210425          DecisionTreeClassifier(random_state=1111)  precision   \n",
       "6   20210425          DecisionTreeClassifier(random_state=1111)  precision   \n",
       "7   20210425          DecisionTreeClassifier(random_state=1111)  precision   \n",
       "8   20210425          DecisionTreeClassifier(random_state=1111)  precision   \n",
       "0   20210425  RandomForestClassifier(oob_score=True, random_...  precision   \n",
       "1   20210425  RandomForestClassifier(oob_score=True, random_...  precision   \n",
       "2   20210425  RandomForestClassifier(oob_score=True, random_...  precision   \n",
       "3   20210425  RandomForestClassifier(oob_score=True, random_...  precision   \n",
       "4   20210425  RandomForestClassifier(oob_score=True, random_...  precision   \n",
       "5   20210425  RandomForestClassifier(oob_score=True, random_...  precision   \n",
       "6   20210425  RandomForestClassifier(oob_score=True, random_...  precision   \n",
       "7   20210425  RandomForestClassifier(oob_score=True, random_...  precision   \n",
       "8   20210425  RandomForestClassifier(oob_score=True, random_...  precision   \n",
       "9   20210425  RandomForestClassifier(oob_score=True, random_...  precision   \n",
       "10  20210425  RandomForestClassifier(oob_score=True, random_...  precision   \n",
       "11  20210425  RandomForestClassifier(oob_score=True, random_...  precision   \n",
       "12  20210425  RandomForestClassifier(oob_score=True, random_...  precision   \n",
       "13  20210425  RandomForestClassifier(oob_score=True, random_...  precision   \n",
       "14  20210425  RandomForestClassifier(oob_score=True, random_...  precision   \n",
       "15  20210425  RandomForestClassifier(oob_score=True, random_...  precision   \n",
       "16  20210425  RandomForestClassifier(oob_score=True, random_...  precision   \n",
       "17  20210425  RandomForestClassifier(oob_score=True, random_...  precision   \n",
       "18  20210425  RandomForestClassifier(oob_score=True, random_...  precision   \n",
       "19  20210425  RandomForestClassifier(oob_score=True, random_...  precision   \n",
       "20  20210425  RandomForestClassifier(oob_score=True, random_...  precision   \n",
       "21  20210425  RandomForestClassifier(oob_score=True, random_...  precision   \n",
       "22  20210425  RandomForestClassifier(oob_score=True, random_...  precision   \n",
       "23  20210425  RandomForestClassifier(oob_score=True, random_...  precision   \n",
       "24  20210425  RandomForestClassifier(oob_score=True, random_...  precision   \n",
       "25  20210425  RandomForestClassifier(oob_score=True, random_...  precision   \n",
       "26  20210425  RandomForestClassifier(oob_score=True, random_...  precision   \n",
       "0   20210425              LogisticRegression(random_state=3333)  precision   \n",
       "1   20210425              LogisticRegression(random_state=3333)  precision   \n",
       "2   20210425              LogisticRegression(random_state=3333)  precision   \n",
       "3   20210425              LogisticRegression(random_state=3333)  precision   \n",
       "4   20210425              LogisticRegression(random_state=3333)  precision   \n",
       "5   20210425              LogisticRegression(random_state=3333)  precision   \n",
       "6   20210425              LogisticRegression(random_state=3333)  precision   \n",
       "7   20210425              LogisticRegression(random_state=3333)  precision   \n",
       "8   20210425              LogisticRegression(random_state=3333)  precision   \n",
       "9   20210425              LogisticRegression(random_state=3333)  precision   \n",
       "10  20210425              LogisticRegression(random_state=3333)  precision   \n",
       "11  20210425              LogisticRegression(random_state=3333)  precision   \n",
       "12  20210425              LogisticRegression(random_state=3333)  precision   \n",
       "13  20210425              LogisticRegression(random_state=3333)  precision   \n",
       "\n",
       "                                               params  mean_test_score  \\\n",
       "0             {'max_depth': 5, 'min_samples_leaf': 3}         0.201848   \n",
       "1             {'max_depth': 5, 'min_samples_leaf': 5}         0.201848   \n",
       "2             {'max_depth': 5, 'min_samples_leaf': 7}         0.202198   \n",
       "3            {'max_depth': 10, 'min_samples_leaf': 3}         0.214605   \n",
       "4            {'max_depth': 10, 'min_samples_leaf': 5}         0.210266   \n",
       "5            {'max_depth': 10, 'min_samples_leaf': 7}         0.220691   \n",
       "6            {'max_depth': 15, 'min_samples_leaf': 3}         0.220330   \n",
       "7            {'max_depth': 15, 'min_samples_leaf': 5}         0.225172   \n",
       "8            {'max_depth': 15, 'min_samples_leaf': 7}         0.225589   \n",
       "0   {'max_depth': 5, 'min_samples_leaf': 3, 'n_est...         0.000000   \n",
       "1   {'max_depth': 5, 'min_samples_leaf': 3, 'n_est...         0.000000   \n",
       "2   {'max_depth': 5, 'min_samples_leaf': 3, 'n_est...         0.000000   \n",
       "3   {'max_depth': 5, 'min_samples_leaf': 5, 'n_est...         0.000000   \n",
       "4   {'max_depth': 5, 'min_samples_leaf': 5, 'n_est...         0.000000   \n",
       "5   {'max_depth': 5, 'min_samples_leaf': 5, 'n_est...         0.000000   \n",
       "6   {'max_depth': 5, 'min_samples_leaf': 10, 'n_es...         0.000000   \n",
       "7   {'max_depth': 5, 'min_samples_leaf': 10, 'n_es...         0.000000   \n",
       "8   {'max_depth': 5, 'min_samples_leaf': 10, 'n_es...         0.000000   \n",
       "9   {'max_depth': 10, 'min_samples_leaf': 3, 'n_es...         0.265517   \n",
       "10  {'max_depth': 10, 'min_samples_leaf': 3, 'n_es...         0.100000   \n",
       "11  {'max_depth': 10, 'min_samples_leaf': 3, 'n_es...         0.095652   \n",
       "12  {'max_depth': 10, 'min_samples_leaf': 5, 'n_es...         0.100000   \n",
       "13  {'max_depth': 10, 'min_samples_leaf': 5, 'n_es...         0.093333   \n",
       "14  {'max_depth': 10, 'min_samples_leaf': 5, 'n_es...         0.100000   \n",
       "15  {'max_depth': 10, 'min_samples_leaf': 10, 'n_e...         0.133333   \n",
       "16  {'max_depth': 10, 'min_samples_leaf': 10, 'n_e...         0.000000   \n",
       "17  {'max_depth': 10, 'min_samples_leaf': 10, 'n_e...         0.066667   \n",
       "18  {'max_depth': 15, 'min_samples_leaf': 3, 'n_es...         0.184895   \n",
       "19  {'max_depth': 15, 'min_samples_leaf': 3, 'n_es...         0.099129   \n",
       "20  {'max_depth': 15, 'min_samples_leaf': 3, 'n_es...         0.119940   \n",
       "21  {'max_depth': 15, 'min_samples_leaf': 5, 'n_es...         0.277895   \n",
       "22  {'max_depth': 15, 'min_samples_leaf': 5, 'n_es...         0.077500   \n",
       "23  {'max_depth': 15, 'min_samples_leaf': 5, 'n_es...         0.076923   \n",
       "24  {'max_depth': 15, 'min_samples_leaf': 10, 'n_e...         0.156000   \n",
       "25  {'max_depth': 15, 'min_samples_leaf': 10, 'n_e...         0.076190   \n",
       "26  {'max_depth': 15, 'min_samples_leaf': 10, 'n_e...         0.066667   \n",
       "0                       {'C': 0.001, 'penalty': 'l1'}              NaN   \n",
       "1                       {'C': 0.001, 'penalty': 'l2'}         0.000000   \n",
       "2                        {'C': 0.01, 'penalty': 'l1'}              NaN   \n",
       "3                        {'C': 0.01, 'penalty': 'l2'}         0.000000   \n",
       "4                         {'C': 0.1, 'penalty': 'l1'}              NaN   \n",
       "5                         {'C': 0.1, 'penalty': 'l2'}         0.000000   \n",
       "6                         {'C': 1.0, 'penalty': 'l1'}              NaN   \n",
       "7                         {'C': 1.0, 'penalty': 'l2'}         0.000000   \n",
       "8                        {'C': 10.0, 'penalty': 'l1'}              NaN   \n",
       "9                        {'C': 10.0, 'penalty': 'l2'}         0.000000   \n",
       "10                      {'C': 100.0, 'penalty': 'l1'}              NaN   \n",
       "11                      {'C': 100.0, 'penalty': 'l2'}         0.000000   \n",
       "12                     {'C': 1000.0, 'penalty': 'l1'}              NaN   \n",
       "13                     {'C': 1000.0, 'penalty': 'l2'}         0.050000   \n",
       "\n",
       "    rank_test_score  \n",
       "0                 8  \n",
       "1                 8  \n",
       "2                 7  \n",
       "3                 5  \n",
       "4                 6  \n",
       "5                 3  \n",
       "6                 4  \n",
       "7                 2  \n",
       "8                 1  \n",
       "0                18  \n",
       "1                18  \n",
       "2                18  \n",
       "3                18  \n",
       "4                18  \n",
       "5                18  \n",
       "6                18  \n",
       "7                18  \n",
       "8                18  \n",
       "9                 2  \n",
       "10                7  \n",
       "11               11  \n",
       "12                7  \n",
       "13               12  \n",
       "14                7  \n",
       "15                5  \n",
       "16               18  \n",
       "17               16  \n",
       "18                3  \n",
       "19               10  \n",
       "20                6  \n",
       "21                1  \n",
       "22               13  \n",
       "23               14  \n",
       "24                4  \n",
       "25               15  \n",
       "26               16  \n",
       "0                 8  \n",
       "1                 2  \n",
       "2                 9  \n",
       "3                 2  \n",
       "4                10  \n",
       "5                 2  \n",
       "6                11  \n",
       "7                 2  \n",
       "8                12  \n",
       "9                 2  \n",
       "10               13  \n",
       "11                2  \n",
       "12               14  \n",
       "13                1  "
      ]
     },
     "execution_count": 18,
     "metadata": {},
     "output_type": "execute_result"
    }
   ],
   "source": [
    "metadata_models"
   ]
  },
  {
   "cell_type": "code",
   "execution_count": 19,
   "metadata": {},
   "outputs": [],
   "source": [
    "best_model = e.best_model(models, 'best_model.pkl')"
   ]
  },
  {
   "cell_type": "code",
   "execution_count": 20,
   "metadata": {},
   "outputs": [
    {
     "data": {
      "text/plain": [
       "RandomForestClassifier(max_depth=15, min_samples_leaf=5, n_estimators=30,\n",
       "                       oob_score=True, random_state=2222)"
      ]
     },
     "execution_count": 20,
     "metadata": {},
     "output_type": "execute_result"
    }
   ],
   "source": [
    "best_model"
   ]
  },
  {
   "cell_type": "code",
   "execution_count": 21,
   "metadata": {},
   "outputs": [],
   "source": [
    "best_model = u.load_df('best_model.pkl')"
   ]
  },
  {
   "cell_type": "code",
   "execution_count": 22,
   "metadata": {},
   "outputs": [],
   "source": [
    "metadata_best  = e.metadata_best_model(best_model, fecha='nmskna' , path_save= 'metadata_best_model.pkl') "
   ]
  },
  {
   "cell_type": "code",
   "execution_count": 23,
   "metadata": {},
   "outputs": [
    {
     "data": {
      "text/html": [
       "<div>\n",
       "<style scoped>\n",
       "    .dataframe tbody tr th:only-of-type {\n",
       "        vertical-align: middle;\n",
       "    }\n",
       "\n",
       "    .dataframe tbody tr th {\n",
       "        vertical-align: top;\n",
       "    }\n",
       "\n",
       "    .dataframe thead th {\n",
       "        text-align: right;\n",
       "    }\n",
       "</style>\n",
       "<table border=\"1\" class=\"dataframe\">\n",
       "  <thead>\n",
       "    <tr style=\"text-align: right;\">\n",
       "      <th></th>\n",
       "      <th>fecha</th>\n",
       "      <th>base_estimator</th>\n",
       "      <th>params</th>\n",
       "      <th>value_params</th>\n",
       "      <th>num_features</th>\n",
       "      <th>oob_score</th>\n",
       "    </tr>\n",
       "  </thead>\n",
       "  <tbody>\n",
       "    <tr>\n",
       "      <th>0</th>\n",
       "      <td>nmskna</td>\n",
       "      <td>DecisionTreeClassifier()</td>\n",
       "      <td>(criterion, max_depth, min_samples_split, min_...</td>\n",
       "      <td>&lt;bound method BaseEstimator.get_params of Rand...</td>\n",
       "      <td>32</td>\n",
       "      <td>0.779099</td>\n",
       "    </tr>\n",
       "  </tbody>\n",
       "</table>\n",
       "</div>"
      ],
      "text/plain": [
       "    fecha            base_estimator  \\\n",
       "0  nmskna  DecisionTreeClassifier()   \n",
       "\n",
       "                                              params  \\\n",
       "0  (criterion, max_depth, min_samples_split, min_...   \n",
       "\n",
       "                                        value_params  num_features  oob_score  \n",
       "0  <bound method BaseEstimator.get_params of Rand...            32   0.779099  "
      ]
     },
     "execution_count": 23,
     "metadata": {},
     "output_type": "execute_result"
    }
   ],
   "source": [
    "metadata_best"
   ]
  },
  {
   "cell_type": "markdown",
   "metadata": {},
   "source": [
    "# Aequitas"
   ]
  },
  {
   "cell_type": "code",
   "execution_count": 24,
   "metadata": {},
   "outputs": [],
   "source": [
    "### Aequitas\n",
    "from aequitas.group import Group\n",
    "from aequitas.bias import Bias\n",
    "from aequitas.fairness import Fairness\n",
    "from aequitas.plotting import Plot\n",
    "import time\n",
    "import pandas as pd\n",
    "import numpy as np"
   ]
  },
  {
   "cell_type": "code",
   "execution_count": 6,
   "metadata": {},
   "outputs": [
    {
     "data": {
      "text/html": [
       "<div>\n",
       "<style scoped>\n",
       "    .dataframe tbody tr th:only-of-type {\n",
       "        vertical-align: middle;\n",
       "    }\n",
       "\n",
       "    .dataframe tbody tr th {\n",
       "        vertical-align: top;\n",
       "    }\n",
       "\n",
       "    .dataframe thead th {\n",
       "        text-align: right;\n",
       "    }\n",
       "</style>\n",
       "<table border=\"1\" class=\"dataframe\">\n",
       "  <thead>\n",
       "    <tr style=\"text-align: right;\">\n",
       "      <th></th>\n",
       "      <th>Communications and Search</th>\n",
       "      <th>Business</th>\n",
       "      <th>General</th>\n",
       "      <th>Lifestyle</th>\n",
       "    </tr>\n",
       "  </thead>\n",
       "  <tbody>\n",
       "    <tr>\n",
       "      <th>0</th>\n",
       "      <td>0.745763</td>\n",
       "      <td>0.050847</td>\n",
       "      <td>0.118644</td>\n",
       "      <td>0.084746</td>\n",
       "    </tr>\n",
       "    <tr>\n",
       "      <th>1</th>\n",
       "      <td>0.333333</td>\n",
       "      <td>0.000000</td>\n",
       "      <td>0.583333</td>\n",
       "      <td>0.083333</td>\n",
       "    </tr>\n",
       "    <tr>\n",
       "      <th>2</th>\n",
       "      <td>0.617021</td>\n",
       "      <td>0.042553</td>\n",
       "      <td>0.297872</td>\n",
       "      <td>0.042553</td>\n",
       "    </tr>\n",
       "    <tr>\n",
       "      <th>3</th>\n",
       "      <td>0.435897</td>\n",
       "      <td>0.000000</td>\n",
       "      <td>0.410256</td>\n",
       "      <td>0.153846</td>\n",
       "    </tr>\n",
       "    <tr>\n",
       "      <th>4</th>\n",
       "      <td>0.358974</td>\n",
       "      <td>0.076923</td>\n",
       "      <td>0.410256</td>\n",
       "      <td>0.153846</td>\n",
       "    </tr>\n",
       "  </tbody>\n",
       "</table>\n",
       "</div>"
      ],
      "text/plain": [
       "   Communications and Search  Business   General  Lifestyle\n",
       "0                   0.745763  0.050847  0.118644   0.084746\n",
       "1                   0.333333  0.000000  0.583333   0.083333\n",
       "2                   0.617021  0.042553  0.297872   0.042553\n",
       "3                   0.435897  0.000000  0.410256   0.153846\n",
       "4                   0.358974  0.076923  0.410256   0.153846"
      ]
     },
     "execution_count": 6,
     "metadata": {},
     "output_type": "execute_result"
    }
   ],
   "source": [
    "df = pd.DataFrame()\n",
    "df['Communications and Search'] = [0.745763,0.333333,0.617021,0.435897,0.358974]\n",
    "df['Business'] = [0.050847,0.000000,0.042553,0.000000,0.076923]\n",
    "df['General'] = [0.118644,0.583333,0.297872,0.410256,0.410256]\n",
    "df['Lifestyle'] = [0.084746,0.083333,0.042553,0.153846,0.153846]\n",
    "df"
   ]
  },
  {
   "cell_type": "code",
   "execution_count": 7,
   "metadata": {},
   "outputs": [
    {
     "data": {
      "text/html": [
       "<div>\n",
       "<style scoped>\n",
       "    .dataframe tbody tr th:only-of-type {\n",
       "        vertical-align: middle;\n",
       "    }\n",
       "\n",
       "    .dataframe tbody tr th {\n",
       "        vertical-align: top;\n",
       "    }\n",
       "\n",
       "    .dataframe thead th {\n",
       "        text-align: right;\n",
       "    }\n",
       "</style>\n",
       "<table border=\"1\" class=\"dataframe\">\n",
       "  <thead>\n",
       "    <tr style=\"text-align: right;\">\n",
       "      <th></th>\n",
       "      <th>Communications and Search</th>\n",
       "      <th>Business</th>\n",
       "      <th>General</th>\n",
       "      <th>Lifestyle</th>\n",
       "      <th>type_inspection</th>\n",
       "    </tr>\n",
       "  </thead>\n",
       "  <tbody>\n",
       "    <tr>\n",
       "      <th>0</th>\n",
       "      <td>0.745763</td>\n",
       "      <td>0.050847</td>\n",
       "      <td>0.118644</td>\n",
       "      <td>0.084746</td>\n",
       "      <td>Communications and Search</td>\n",
       "    </tr>\n",
       "    <tr>\n",
       "      <th>1</th>\n",
       "      <td>0.333333</td>\n",
       "      <td>0.000000</td>\n",
       "      <td>0.583333</td>\n",
       "      <td>0.083333</td>\n",
       "      <td>General</td>\n",
       "    </tr>\n",
       "    <tr>\n",
       "      <th>2</th>\n",
       "      <td>0.617021</td>\n",
       "      <td>0.042553</td>\n",
       "      <td>0.297872</td>\n",
       "      <td>0.042553</td>\n",
       "      <td>Communications and Search</td>\n",
       "    </tr>\n",
       "    <tr>\n",
       "      <th>3</th>\n",
       "      <td>0.435897</td>\n",
       "      <td>0.000000</td>\n",
       "      <td>0.410256</td>\n",
       "      <td>0.153846</td>\n",
       "      <td>Communications and Search</td>\n",
       "    </tr>\n",
       "    <tr>\n",
       "      <th>4</th>\n",
       "      <td>0.358974</td>\n",
       "      <td>0.076923</td>\n",
       "      <td>0.410256</td>\n",
       "      <td>0.153846</td>\n",
       "      <td>General</td>\n",
       "    </tr>\n",
       "  </tbody>\n",
       "</table>\n",
       "</div>"
      ],
      "text/plain": [
       "   Communications and Search  Business   General  Lifestyle  \\\n",
       "0                   0.745763  0.050847  0.118644   0.084746   \n",
       "1                   0.333333  0.000000  0.583333   0.083333   \n",
       "2                   0.617021  0.042553  0.297872   0.042553   \n",
       "3                   0.435897  0.000000  0.410256   0.153846   \n",
       "4                   0.358974  0.076923  0.410256   0.153846   \n",
       "\n",
       "             type_inspection  \n",
       "0  Communications and Search  \n",
       "1                    General  \n",
       "2  Communications and Search  \n",
       "3  Communications and Search  \n",
       "4                    General  "
      ]
     },
     "execution_count": 7,
     "metadata": {},
     "output_type": "execute_result"
    }
   ],
   "source": [
    "df['type_inspection'] = df[['Communications and Search','Business','General','Lifestyle']].idxmax(axis=1)\n",
    "df"
   ]
  },
  {
   "cell_type": "code",
   "execution_count": 25,
   "metadata": {},
   "outputs": [
    {
     "name": "stdout",
     "output_type": "stream",
     "text": [
      "Se inicia el proceso de muestreo:train/test\n",
      "Muestreo estratificado train/test completado satisfactoriamente en  0.048055410385131836\n",
      "Selección de variables completada satisfactoriamente en  60.82049322128296  segundos\n"
     ]
    }
   ],
   "source": [
    "# Carga pickle de datos del feature engineering\n",
    "df = u.load_df(path_fe)\n",
    "# Carga mejor modelo\n",
    "best_model = u.load_df('best_model.pkl')\n",
    "\n",
    "print('Se inicia el proceso de muestreo:train/test')   \n",
    "start_time = time.time()\n",
    "X = df\n",
    "y = df.label\n",
    "y_id = df.inspection_id \n",
    "X = pd.DataFrame(X.drop(['label'], axis=1))\n",
    "    \n",
    "np.random.seed(2021)\n",
    "X_train_id, X_test_id, y_train, y_test = e.train_test_split(X, y, test_size=0.2,\\\n",
    "                                                            shuffle=False, random_state=None)\n",
    "print('Muestreo estratificado train/test completado satisfactoriamente en ', time.time() - start_time)\n",
    "\n",
    "auto_variables = e.auto_selection_variables (X_train_id, y_train)"
   ]
  },
  {
   "cell_type": "code",
   "execution_count": 26,
   "metadata": {},
   "outputs": [
    {
     "data": {
      "text/plain": [
       "array(['distancia_ym_mht', 'distancia_ym', 'distance', 'risk_low',\n",
       "       'sin_days', 'sin_week', 'cos_days', 'cos_week', 'sin_day_no',\n",
       "       'risk_high', 'cos_month', 'sin_month', 'cos_day_no', 'risk_medium',\n",
       "       'tf_others_serv', 'type_others', 'weekday',\n",
       "       'tf_grocery_almacen_conve_serv', 'type_out_of_buss',\n",
       "       'tf_banquet_serv', 'tf_bar_serv', 'tf_school_serv', 'tf_cafe_serv',\n",
       "       'tf_restaurant_serv', 'risk_all', 'tf_gas_station_serv',\n",
       "       'tf_entertaiment_serv', 'type_reinsp', 'type_complaint',\n",
       "       'type_licuor', 'type_license'], dtype=object)"
      ]
     },
     "execution_count": 26,
     "metadata": {},
     "output_type": "execute_result"
    }
   ],
   "source": [
    "auto_variables"
   ]
  },
  {
   "cell_type": "code",
   "execution_count": 27,
   "metadata": {},
   "outputs": [
    {
     "data": {
      "text/plain": [
       "(148939, 42)"
      ]
     },
     "execution_count": 27,
     "metadata": {},
     "output_type": "execute_result"
    }
   ],
   "source": [
    "X_train_id.shape"
   ]
  },
  {
   "cell_type": "code",
   "execution_count": 28,
   "metadata": {},
   "outputs": [
    {
     "data": {
      "text/plain": [
       "(37235, 42)"
      ]
     },
     "execution_count": 28,
     "metadata": {},
     "output_type": "execute_result"
    }
   ],
   "source": [
    "X_test_id.shape"
   ]
  },
  {
   "cell_type": "code",
   "execution_count": 29,
   "metadata": {},
   "outputs": [
    {
     "data": {
      "text/plain": [
       "0    116137\n",
       "1     32802\n",
       "Name: label, dtype: int64"
      ]
     },
     "execution_count": 29,
     "metadata": {},
     "output_type": "execute_result"
    }
   ],
   "source": [
    "y_train.value_counts()"
   ]
  },
  {
   "cell_type": "code",
   "execution_count": 30,
   "metadata": {},
   "outputs": [
    {
     "data": {
      "text/plain": [
       "0    28898\n",
       "1     8337\n",
       "Name: label, dtype: int64"
      ]
     },
     "execution_count": 30,
     "metadata": {},
     "output_type": "execute_result"
    }
   ],
   "source": [
    "y_test.value_counts()"
   ]
  },
  {
   "cell_type": "code",
   "execution_count": 31,
   "metadata": {},
   "outputs": [
    {
     "ename": "ValueError",
     "evalue": "Number of features of the model must match the input. Model n_features is 32 and input n_features is 31 ",
     "output_type": "error",
     "traceback": [
      "\u001b[0;31m---------------------------------------------------------------------------\u001b[0m",
      "\u001b[0;31mValueError\u001b[0m                                Traceback (most recent call last)",
      "\u001b[0;32m<ipython-input-31-9b464d1105d8>\u001b[0m in \u001b[0;36m<module>\u001b[0;34m\u001b[0m\n\u001b[0;32m----> 1\u001b[0;31m \u001b[0mpredicted_labels\u001b[0m \u001b[0;34m=\u001b[0m \u001b[0mbest_model\u001b[0m\u001b[0;34m.\u001b[0m\u001b[0mpredict\u001b[0m\u001b[0;34m(\u001b[0m\u001b[0mX_test_id\u001b[0m\u001b[0;34m[\u001b[0m\u001b[0mauto_variables\u001b[0m\u001b[0;34m]\u001b[0m\u001b[0;34m)\u001b[0m\u001b[0;34m\u001b[0m\u001b[0;34m\u001b[0m\u001b[0m\n\u001b[0m\u001b[1;32m      2\u001b[0m \u001b[0mpredicted_labels\u001b[0m\u001b[0;34m\u001b[0m\u001b[0;34m\u001b[0m\u001b[0m\n\u001b[1;32m      3\u001b[0m \u001b[0mpredicted_scores\u001b[0m \u001b[0;34m=\u001b[0m \u001b[0mbest_model\u001b[0m\u001b[0;34m.\u001b[0m\u001b[0mpredict_proba\u001b[0m\u001b[0;34m(\u001b[0m\u001b[0mX_test_id\u001b[0m\u001b[0;34m[\u001b[0m\u001b[0mauto_variables\u001b[0m\u001b[0;34m]\u001b[0m\u001b[0;34m)\u001b[0m\u001b[0;34m\u001b[0m\u001b[0;34m\u001b[0m\u001b[0m\n\u001b[1;32m      4\u001b[0m \u001b[0mpredicted_scores\u001b[0m\u001b[0;34m\u001b[0m\u001b[0;34m\u001b[0m\u001b[0m\n",
      "\u001b[0;32m~/.pyenv/versions/3.7.4/envs/itam_intro_to_ds/lib/python3.7/site-packages/sklearn/ensemble/_forest.py\u001b[0m in \u001b[0;36mpredict\u001b[0;34m(self, X)\u001b[0m\n\u001b[1;32m    627\u001b[0m             \u001b[0mThe\u001b[0m \u001b[0mpredicted\u001b[0m \u001b[0mclasses\u001b[0m\u001b[0;34m.\u001b[0m\u001b[0;34m\u001b[0m\u001b[0;34m\u001b[0m\u001b[0m\n\u001b[1;32m    628\u001b[0m         \"\"\"\n\u001b[0;32m--> 629\u001b[0;31m         \u001b[0mproba\u001b[0m \u001b[0;34m=\u001b[0m \u001b[0mself\u001b[0m\u001b[0;34m.\u001b[0m\u001b[0mpredict_proba\u001b[0m\u001b[0;34m(\u001b[0m\u001b[0mX\u001b[0m\u001b[0;34m)\u001b[0m\u001b[0;34m\u001b[0m\u001b[0;34m\u001b[0m\u001b[0m\n\u001b[0m\u001b[1;32m    630\u001b[0m \u001b[0;34m\u001b[0m\u001b[0m\n\u001b[1;32m    631\u001b[0m         \u001b[0;32mif\u001b[0m \u001b[0mself\u001b[0m\u001b[0;34m.\u001b[0m\u001b[0mn_outputs_\u001b[0m \u001b[0;34m==\u001b[0m \u001b[0;36m1\u001b[0m\u001b[0;34m:\u001b[0m\u001b[0;34m\u001b[0m\u001b[0;34m\u001b[0m\u001b[0m\n",
      "\u001b[0;32m~/.pyenv/versions/3.7.4/envs/itam_intro_to_ds/lib/python3.7/site-packages/sklearn/ensemble/_forest.py\u001b[0m in \u001b[0;36mpredict_proba\u001b[0;34m(self, X)\u001b[0m\n\u001b[1;32m    671\u001b[0m         \u001b[0mcheck_is_fitted\u001b[0m\u001b[0;34m(\u001b[0m\u001b[0mself\u001b[0m\u001b[0;34m)\u001b[0m\u001b[0;34m\u001b[0m\u001b[0;34m\u001b[0m\u001b[0m\n\u001b[1;32m    672\u001b[0m         \u001b[0;31m# Check data\u001b[0m\u001b[0;34m\u001b[0m\u001b[0;34m\u001b[0m\u001b[0;34m\u001b[0m\u001b[0m\n\u001b[0;32m--> 673\u001b[0;31m         \u001b[0mX\u001b[0m \u001b[0;34m=\u001b[0m \u001b[0mself\u001b[0m\u001b[0;34m.\u001b[0m\u001b[0m_validate_X_predict\u001b[0m\u001b[0;34m(\u001b[0m\u001b[0mX\u001b[0m\u001b[0;34m)\u001b[0m\u001b[0;34m\u001b[0m\u001b[0;34m\u001b[0m\u001b[0m\n\u001b[0m\u001b[1;32m    674\u001b[0m \u001b[0;34m\u001b[0m\u001b[0m\n\u001b[1;32m    675\u001b[0m         \u001b[0;31m# Assign chunk of trees to jobs\u001b[0m\u001b[0;34m\u001b[0m\u001b[0;34m\u001b[0m\u001b[0;34m\u001b[0m\u001b[0m\n",
      "\u001b[0;32m~/.pyenv/versions/3.7.4/envs/itam_intro_to_ds/lib/python3.7/site-packages/sklearn/ensemble/_forest.py\u001b[0m in \u001b[0;36m_validate_X_predict\u001b[0;34m(self, X)\u001b[0m\n\u001b[1;32m    419\u001b[0m         \u001b[0mcheck_is_fitted\u001b[0m\u001b[0;34m(\u001b[0m\u001b[0mself\u001b[0m\u001b[0;34m)\u001b[0m\u001b[0;34m\u001b[0m\u001b[0;34m\u001b[0m\u001b[0m\n\u001b[1;32m    420\u001b[0m \u001b[0;34m\u001b[0m\u001b[0m\n\u001b[0;32m--> 421\u001b[0;31m         \u001b[0;32mreturn\u001b[0m \u001b[0mself\u001b[0m\u001b[0;34m.\u001b[0m\u001b[0mestimators_\u001b[0m\u001b[0;34m[\u001b[0m\u001b[0;36m0\u001b[0m\u001b[0;34m]\u001b[0m\u001b[0;34m.\u001b[0m\u001b[0m_validate_X_predict\u001b[0m\u001b[0;34m(\u001b[0m\u001b[0mX\u001b[0m\u001b[0;34m,\u001b[0m \u001b[0mcheck_input\u001b[0m\u001b[0;34m=\u001b[0m\u001b[0;32mTrue\u001b[0m\u001b[0;34m)\u001b[0m\u001b[0;34m\u001b[0m\u001b[0;34m\u001b[0m\u001b[0m\n\u001b[0m\u001b[1;32m    422\u001b[0m \u001b[0;34m\u001b[0m\u001b[0m\n\u001b[1;32m    423\u001b[0m     \u001b[0;34m@\u001b[0m\u001b[0mproperty\u001b[0m\u001b[0;34m\u001b[0m\u001b[0;34m\u001b[0m\u001b[0m\n",
      "\u001b[0;32m~/.pyenv/versions/3.7.4/envs/itam_intro_to_ds/lib/python3.7/site-packages/sklearn/tree/_classes.py\u001b[0m in \u001b[0;36m_validate_X_predict\u001b[0;34m(self, X, check_input)\u001b[0m\n\u001b[1;32m    397\u001b[0m                              \u001b[0;34m\"match the input. Model n_features is %s and \"\u001b[0m\u001b[0;34m\u001b[0m\u001b[0;34m\u001b[0m\u001b[0m\n\u001b[1;32m    398\u001b[0m                              \u001b[0;34m\"input n_features is %s \"\u001b[0m\u001b[0;34m\u001b[0m\u001b[0;34m\u001b[0m\u001b[0m\n\u001b[0;32m--> 399\u001b[0;31m                              % (self.n_features_, n_features))\n\u001b[0m\u001b[1;32m    400\u001b[0m \u001b[0;34m\u001b[0m\u001b[0m\n\u001b[1;32m    401\u001b[0m         \u001b[0;32mreturn\u001b[0m \u001b[0mX\u001b[0m\u001b[0;34m\u001b[0m\u001b[0;34m\u001b[0m\u001b[0m\n",
      "\u001b[0;31mValueError\u001b[0m: Number of features of the model must match the input. Model n_features is 32 and input n_features is 31 "
     ]
    }
   ],
   "source": [
    "predicted_labels = best_model.predict(X_test_id[auto_variables])\n",
    "predicted_labels\n",
    "predicted_scores = best_model.predict_proba(X_test_id[auto_variables])\n",
    "predicted_scores"
   ]
  },
  {
   "cell_type": "code",
   "execution_count": null,
   "metadata": {},
   "outputs": [],
   "source": [
    "import collections\n",
    "collections.Counter(predicted_labels)"
   ]
  },
  {
   "cell_type": "code",
   "execution_count": null,
   "metadata": {},
   "outputs": [],
   "source": [
    "## ROC\n",
    "from sklearn.metrics import roc_curve, roc_auc_score, confusion_matrix, plot_confusion_matrix, precision_recall_curve\n",
    "import matplotlib.pyplot as plt\n",
    "# Metricas\n",
    "from sklearn.metrics import accuracy_score, precision_recall_curve\n",
    "from sklearn import metrics"
   ]
  },
  {
   "cell_type": "code",
   "execution_count": null,
   "metadata": {},
   "outputs": [],
   "source": [
    "fpr, tpr, thresholds = roc_curve(y_test, predicted_scores[:,1], pos_label=1)\n",
    "\n",
    "plt.clf()\n",
    "plt.plot([0,1],[0,1], 'k--', c=\"red\")\n",
    "plt.plot(fpr, tpr)\n",
    "plt.title(\"ROC best RF, AUC: {}\".format(roc_auc_score(y_test, predicted_labels)))\n",
    "plt.xlabel(\"fpr\")\n",
    "plt.ylabel(\"tpr\")\n",
    "plt.show()"
   ]
  },
  {
   "cell_type": "code",
   "execution_count": null,
   "metadata": {},
   "outputs": [],
   "source": [
    "\n",
    "from sklearn.metrics import PrecisionRecallDisplay\n",
    "prec, recall, t = precision_recall_curve(y_test, predicted_scores[:,1], pos_label=1)\n",
    "pr_display = PrecisionRecallDisplay(precision=prec, recall=recall).plot()"
   ]
  },
  {
   "cell_type": "code",
   "execution_count": null,
   "metadata": {},
   "outputs": [],
   "source": [
    "s1=pd.Series(t,name='t')\n",
    "s2=pd.Series(prec,name='prec')\n",
    "s3=pd.Series(recall ,name='recall')\n",
    "t_df = pd.concat([s1,s2,s3], axis=1)\n",
    "#t_df[t_df.t > 0.29].head(60)"
   ]
  },
  {
   "cell_type": "code",
   "execution_count": null,
   "metadata": {},
   "outputs": [],
   "source": [
    "predict_proba = pd.DataFrame(predicted_scores[:,1])\n",
    "terminos_threshold = predict_proba > 0.29\n",
    "#terminos_threshold.replace(True,1).replace(False,0)\n",
    "score = terminos_threshold[0]\n",
    "score = score.replace(True,1).replace(False,0)\n",
    "score = score.to_numpy()"
   ]
  },
  {
   "cell_type": "code",
   "execution_count": null,
   "metadata": {},
   "outputs": [],
   "source": [
    "terminos_threshold"
   ]
  },
  {
   "cell_type": "code",
   "execution_count": null,
   "metadata": {},
   "outputs": [],
   "source": [
    "score"
   ]
  },
  {
   "cell_type": "code",
   "execution_count": null,
   "metadata": {},
   "outputs": [],
   "source": [
    "#df.idxmax(axis=1)\n",
    "# Regresando a una sola columna el one hot encoding de la variable tipo de inspección\n",
    "X_test_id['type_inspection'] = X_test_id[['type_canvass','type_license','type_licuor','type_complaint',\n",
    "                                          'type_reinsp','type_illegal','type_not_ready','type_out_of_buss',\n",
    "                                          'type_prelicense','type_others']].idxmax(axis=1)"
   ]
  },
  {
   "cell_type": "code",
   "execution_count": null,
   "metadata": {},
   "outputs": [],
   "source": []
  },
  {
   "cell_type": "code",
   "execution_count": null,
   "metadata": {},
   "outputs": [],
   "source": [
    "df_s_i = pd.DataFrame({'score':score, 'label_value': y_test, 'type_inspection': X_test_id.type_inspection}, \n",
    "                        columns = ['score','label_value','type_inspection'])\n",
    "df_s_i.head()"
   ]
  },
  {
   "cell_type": "code",
   "execution_count": null,
   "metadata": {},
   "outputs": [],
   "source": [
    "from sklearn.metrics import confusion_matrix\n",
    "confusion_matrix(y_test, score)"
   ]
  },
  {
   "cell_type": "code",
   "execution_count": null,
   "metadata": {},
   "outputs": [],
   "source": [
    "X_test_id.info()"
   ]
  },
  {
   "cell_type": "code",
   "execution_count": null,
   "metadata": {},
   "outputs": [],
   "source": [
    "import seaborn as sns\n",
    "by_type = sns.countplot(x=\"type_inspection\", hue=\"score\",\\\n",
    "              data=df_s_i[df_s_i.type_inspection.isin(['type_canvass','type_license','type_licuor',\n",
    "                                                       'type_complaint','type_reinsp','type_illegal',\n",
    "                                                       'type_not_ready','type_out_of_buss',\n",
    "                                        'type_prelicense','type_others']) ])\n",
    "by_type.set_xticklabels(by_type.get_xticklabels(), rotation=30);"
   ]
  },
  {
   "cell_type": "code",
   "execution_count": null,
   "metadata": {},
   "outputs": [],
   "source": [
    "df_s_i['type_inspection'].unique()"
   ]
  },
  {
   "cell_type": "code",
   "execution_count": null,
   "metadata": {},
   "outputs": [],
   "source": [
    "by_type = sns.countplot(x=\"type_inspection\", hue=\"label_value\",\\\n",
    "              data=df_s_i[df_s_i.type_inspection.isin(['type_canvass','type_license','type_licuor',\n",
    "                                                       'type_complaint','type_reinsp','type_illegal',\n",
    "                                                       'type_not_ready','type_out_of_buss',\n",
    "                                        'type_prelicense','type_others']) ])\n",
    "by_type.set_xticklabels(by_type.get_xticklabels(), rotation=30);"
   ]
  },
  {
   "cell_type": "markdown",
   "metadata": {},
   "source": [
    "# Group"
   ]
  },
  {
   "cell_type": "code",
   "execution_count": null,
   "metadata": {},
   "outputs": [],
   "source": [
    "g = Group()\n",
    "xtab, attrbs = g.get_crosstabs(df_s_i)\n",
    "xtab"
   ]
  },
  {
   "cell_type": "code",
   "execution_count": null,
   "metadata": {},
   "outputs": [],
   "source": [
    "attrbs"
   ]
  },
  {
   "cell_type": "code",
   "execution_count": null,
   "metadata": {},
   "outputs": [],
   "source": [
    "absolute_metrics = g.list_absolute_metrics(xtab)\n",
    "absolute_metrics\n",
    "xtab[[col for col in xtab.columns if col not in absolute_metrics]]"
   ]
  },
  {
   "cell_type": "code",
   "execution_count": null,
   "metadata": {},
   "outputs": [],
   "source": [
    "xtab[['attribute_name', 'attribute_value']+[col for col in xtab.columns if col in absolute_metrics]].round(2)"
   ]
  },
  {
   "cell_type": "markdown",
   "metadata": {},
   "source": [
    "\n",
    "Visualización del sesgo en los grupos\n",
    "\n",
    "Para visualizar el sesgo se pueden ocupar dos métodos:\n",
    "\n",
    "    plot_group_metric(): Visualiza 1 sola métrica.\n",
    "    plot_group_metric_all(): Visualiza varias métricas a la vez\n",
    "\n",
    "Para utilizarlas primero tendremos que instanciar la clase Plot\n"
   ]
  },
  {
   "cell_type": "code",
   "execution_count": null,
   "metadata": {},
   "outputs": [],
   "source": [
    "aeq = Plot()"
   ]
  },
  {
   "cell_type": "code",
   "execution_count": null,
   "metadata": {},
   "outputs": [],
   "source": [
    "p = aeq.plot_group_metric_all(xtab, metrics=['ppr','fpr','fdr'])"
   ]
  },
  {
   "cell_type": "code",
   "execution_count": null,
   "metadata": {},
   "outputs": [],
   "source": [
    "**a). Selecciona 3 métricas adecuadas de acuerdo a los objetivos y acciones. Justifica.**"
   ]
  },
  {
   "cell_type": "markdown",
   "metadata": {},
   "source": [
    "Analizando el proyecto llegamos a la conclusión que el modelo corresponde a una acción de identificar llamadas falsas por lo que no se atenderán y por tanto no se les enviará una ambulancia por lo que de alguna manera se les estará \"castigando\", por ende lo consideramos como ***Punitivo***.\n",
    "\n",
    "En este caso por la intervención que se realiza nos interesan las siguientes métricas:\n",
    "\n",
    "- **fdr**: Proporción de falsos positivos que existen entre todas las etiquetas predichas como positivas, ya que lo que queremos es minimizar la atención a llamadas falsas y atender casos reales.\n",
    "\n",
    "- **fpr**: Proporción de falsos positivos, que son los falsos positivos de un grupo de los etiquetados como negativos en el grupo, % de llamadas falsas clasificadas correctamente.\n",
    "\n",
    "- **ppr**: La fracción de observaciones con predicción de etiqueta positiva que pertenecen a cierto grupo. Número de observaciones predichas como etiqueta 1 que pertenecen a un grupo. Llamadas falsas predichas en número absoluto."
   ]
  },
  {
   "cell_type": "markdown",
   "metadata": {},
   "source": [
    "**b. Define cuál es tu grupo de referencia. Justifica.**\n",
    "Existen 3 formas de seleccionar este grupo base:\n",
    "\n",
    "- El grupo de mayor tamaño entre todos los grupos existentes -de mayor elementos en él-. En este caso sería **IZTAPALAPA**.\n",
    "\n",
    "- El grupo de menor tamaño. En este caso sería **MILPA ALTA**.\n",
    "\n",
    "- Aquél que históricamente ha sido un grupo favorecido. En este caso sería nuevamente **MILPA ALTA y TLALPAN**.\n",
    "\n",
    "Por lo que tomaremos como base a **IZTAPALAPA**."
   ]
  },
  {
   "cell_type": "code",
   "execution_count": null,
   "metadata": {},
   "outputs": [],
   "source": []
  },
  {
   "cell_type": "markdown",
   "metadata": {},
   "source": [
    "## Bias\n",
    "\n",
    "### Tablas de métricas obtenidas de la clase Bias de Aequitas (conteos de frecuencias y absolutas)"
   ]
  },
  {
   "cell_type": "code",
   "execution_count": null,
   "metadata": {},
   "outputs": [],
   "source": [
    "bias = Bias()"
   ]
  },
  {
   "cell_type": "code",
   "execution_count": null,
   "metadata": {},
   "outputs": [],
   "source": [
    "bdf = bias.get_disparity_predefined_groups(xtab, original_df=compas, \n",
    "                                           ref_groups_dict={'delegacion':'IZTAPALAPA'}, \n",
    "                                           alpha=0.05)"
   ]
  },
  {
   "cell_type": "code",
   "execution_count": null,
   "metadata": {},
   "outputs": [],
   "source": [
    "# View disparity metrics added to dataframe\n",
    "bdf[['attribute_name', 'attribute_value'] +\n",
    "     bias.list_disparities(bdf)].round(2)"
   ]
  },
  {
   "cell_type": "code",
   "execution_count": null,
   "metadata": {},
   "outputs": [],
   "source": [
    "majority_bdf = bias.get_disparity_major_group(xtab, original_df=compas)"
   ]
  },
  {
   "cell_type": "code",
   "execution_count": null,
   "metadata": {},
   "outputs": [],
   "source": [
    "majority_bdf[['attribute_name', 'attribute_value'] +  bias.list_disparities(majority_bdf)].round(2)"
   ]
  },
  {
   "cell_type": "code",
   "execution_count": null,
   "metadata": {},
   "outputs": [],
   "source": [
    "min_bdf = bias.get_disparity_min_metric(xtab, original_df=compas)"
   ]
  },
  {
   "cell_type": "code",
   "execution_count": null,
   "metadata": {},
   "outputs": [],
   "source": [
    "min_bdf[['attribute_name', 'attribute_value'] +  bias.list_disparities(min_bdf)].round(2)"
   ]
  },
  {
   "cell_type": "code",
   "execution_count": null,
   "metadata": {},
   "outputs": [],
   "source": [
    "# Visualización 3 métricas seleccionadas con la salida de Bias (disparidad)\n",
    "fpr_disparity = aeq.plot_disparity(bdf, group_metric='ppr_disparity', attribute_name='delegacion', \n",
    "                                   significance_alpha=0.05)"
   ]
  },
  {
   "cell_type": "code",
   "execution_count": null,
   "metadata": {},
   "outputs": [],
   "source": [
    "# Aquí podemos observar que las delegaciones Tlalpan, Tláhuac, Magdalena Contraras, Coyoacán y Cuajimalpa tienen una mayor disparidad en la identificación de llamadas falsas.\n",
    "p = aeq.plot_disparity_all(majority_bdf,  metrics=['fpr','fdr'], significance_alpha=0.05)"
   ]
  },
  {
   "cell_type": "markdown",
   "metadata": {},
   "source": [
    "## Fairness\n",
    "\n",
    "### Tablas de métricas obtenidas de la clase Fairness de Aequitas (conteos de frecuencias y absolutas)"
   ]
  },
  {
   "cell_type": "code",
   "execution_count": null,
   "metadata": {},
   "outputs": [],
   "source": [
    "fair = Fairness()"
   ]
  },
  {
   "cell_type": "code",
   "execution_count": null,
   "metadata": {},
   "outputs": [],
   "source": [
    "fdf = fair.get_group_value_fairness(bdf)"
   ]
  },
  {
   "cell_type": "code",
   "execution_count": null,
   "metadata": {},
   "outputs": [],
   "source": [
    "parity_determinations = fair.list_parities(fdf)"
   ]
  },
  {
   "cell_type": "code",
   "execution_count": null,
   "metadata": {},
   "outputs": [],
   "source": [
    "fdf[['attribute_name', 'attribute_value'] + absolute_metrics + \n",
    "    bias.list_disparities(fdf) + parity_determinations].round(2)"
   ]
  },
  {
   "cell_type": "code",
   "execution_count": null,
   "metadata": {},
   "outputs": [],
   "source": [
    "aux = fdf[['attribute_name', 'attribute_value'] + absolute_metrics + \n",
    "    bias.list_disparities(fdf) + parity_determinations].round(2)"
   ]
  },
  {
   "cell_type": "code",
   "execution_count": null,
   "metadata": {},
   "outputs": [],
   "source": [
    "# 1. Equidad a nivel de atributos. Ocupamos el método `get_group_attribute_fairness()`\n",
    "gaf = fair.get_group_attribute_fairness(fdf)\n",
    "gaf"
   ]
  },
  {
   "cell_type": "code",
   "execution_count": null,
   "metadata": {},
   "outputs": [],
   "source": [
    "# 1. Equidad general: Ocupamos el método `get_overall_fairness()`\n",
    "fdf"
   ]
  },
  {
   "cell_type": "code",
   "execution_count": null,
   "metadata": {},
   "outputs": [],
   "source": [
    "gof = fair.get_overall_fairness(fdf)\n",
    "gof"
   ]
  },
  {
   "cell_type": "markdown",
   "metadata": {},
   "source": [
    "### Visualización de 3 métricas seleccionadas con la salida de Fairness (equidad)"
   ]
  },
  {
   "cell_type": "code",
   "execution_count": null,
   "metadata": {},
   "outputs": [],
   "source": [
    "z = aeq.plot_fairness_group_all(fdf, metrics=['ppr','fpr','fdr'])"
   ]
  }
 ],
 "metadata": {
  "kernelspec": {
   "display_name": "Python 3",
   "language": "python",
   "name": "python3"
  },
  "language_info": {
   "codemirror_mode": {
    "name": "ipython",
    "version": 3
   },
   "file_extension": ".py",
   "mimetype": "text/x-python",
   "name": "python",
   "nbconvert_exporter": "python",
   "pygments_lexer": "ipython3",
   "version": "3.7.4"
  }
 },
 "nbformat": 4,
 "nbformat_minor": 4
}
