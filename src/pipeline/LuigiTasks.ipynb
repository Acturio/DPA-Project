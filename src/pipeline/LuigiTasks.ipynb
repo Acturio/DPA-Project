{
 "cells": [
  {
   "cell_type": "code",
   "execution_count": 6,
   "metadata": {},
   "outputs": [],
   "source": [
    "import luigi\n",
    "\n",
    "from src.utils import general as gral\n",
    "from src.pipeline import ingesta_almacenamiento as ing\n",
    "import src.utils.constants as cte\n",
    "\n",
    "from datetime import date, timedelta, datetime\n",
    "import pickle\n",
    "import pandas as pd"
   ]
  },
  {
   "cell_type": "code",
   "execution_count": 149,
   "metadata": {},
   "outputs": [
    {
     "name": "stdout",
     "output_type": "stream",
     "text": [
      "Overwriting LuigiIngestionTasks.py\n"
     ]
    }
   ],
   "source": [
    "%%file LuigiIngestionTasks.py\n",
    "\n",
    "import luigi\n",
    "\n",
    "from src.utils import general as gral\n",
    "from src.pipeline import ingesta_almacenamiento as ing\n",
    "import src.utils.constants as cte\n",
    "\n",
    "from datetime import date, timedelta, datetime\n",
    "import pickle\n",
    "\n",
    "\n",
    "class IngestionTask(luigi.Task):\n",
    "    \n",
    "    path_cred = luigi.Parameter(default = 'credentials.yaml')\n",
    "    initial = luigi.BoolParameter(default=True, parsing = luigi.BoolParameter.EXPLICIT_PARSING)\n",
    "    limit = luigi.IntParameter(default = 300000)\n",
    "    date = luigi.DateParameter(default = None)\n",
    "                    \n",
    "    def output(self):\n",
    "        \n",
    "        hoy = datetime.today().strftime('%Y-%m-%d')\n",
    "        \n",
    "        if self.initial:\n",
    "#            type_insp = 'historical'\n",
    "            file_name = cte.BUCKET_PATH_HIST + '{}.pkl'.format(hoy)\n",
    "        else:\n",
    "#            type_insp = 'consecutive'\n",
    "            file_name = cte.BUCKET_PATH_CONS + '{}.pkl'.format(hoy)\n",
    "                \n",
    "#        file_name = 'results/food_inspections/{}/{}-inspections-{}.pkl'.\\\n",
    "#                     format(hoy, type_insp, hoy)\n",
    "                \n",
    "        return luigi.local_target.LocalTarget(file_name, format = luigi.format.Nop)\n",
    "        \n",
    "    def run(self):\n",
    "        \n",
    "        s3_c = gral.get_s3_credentials(self.path_cred)\n",
    "        my_token = gral.get_api_token(self.path_cred)\n",
    "        \n",
    "        cliente = ing.get_client(data_url = cte.DATA_URL, token = my_token)\n",
    "        \n",
    "        if self.initial:\n",
    "            datos = ing.ingesta_inicial(\n",
    "                cliente, \n",
    "                data_set = cte.DATA_SET, \n",
    "                limit = self.limit\n",
    "            )\n",
    "            \n",
    "        else:\n",
    "            datos = ing.ingesta_consecutiva(\n",
    "                client = cliente, \n",
    "                data_set = cte.DATA_SET, \n",
    "                fecha = self.date.strftime('%Y-%m-%d'), \n",
    "                limit = self.limit\n",
    "            )\n",
    "\n",
    "        with self.output().open('wb') as f:\n",
    "            pickle.dump(datos, f)\n",
    "        \n",
    "\n",
    "            \n",
    "if __name__ == '__main__':\n",
    "    luigi.run()"
   ]
  },
  {
   "cell_type": "code",
   "execution_count": null,
   "metadata": {},
   "outputs": [],
   "source": [
    "%%bash\n",
    "PYTHONPATH='.' luigi \\\n",
    "--module src.pipeline.LuigiIngestionTasks IngestionTask \\\n",
    "--local-scheduler \\\n",
    "--path-cred ./conf/local/credentials.yaml \\\n",
    "--initial true \\\n",
    "--limit 100 \\\n",
    "--date '2021-03-15' "
   ]
  },
  {
   "cell_type": "code",
   "execution_count": null,
   "metadata": {},
   "outputs": [],
   "source": [
    "%%bash\n",
    "PYTHONPATH='.' luigi \\\n",
    "--module src.pipeline.LuigiIngestionTasks IngestionTask \\\n",
    "--local-scheduler \\\n",
    "--path-cred ./conf/local/credentials.yaml \\\n",
    "--initial false \\\n",
    "--limit 1000 \\\n",
    "--date '2021-01-15'"
   ]
  },
  {
   "cell_type": "code",
   "execution_count": null,
   "metadata": {},
   "outputs": [],
   "source": []
  },
  {
   "cell_type": "code",
   "execution_count": 110,
   "metadata": {},
   "outputs": [],
   "source": [
    "with open(\"../../results/food_inspections/2021-03-15/historical-inspections-2021-03-15.pkl\", 'rb') as handle:\n",
    "    bd_consecutiva = pickle.load(handle)"
   ]
  },
  {
   "cell_type": "code",
   "execution_count": null,
   "metadata": {},
   "outputs": [],
   "source": [
    "pd.DataFrame(bd_consecutiva).head()"
   ]
  },
  {
   "cell_type": "code",
   "execution_count": 112,
   "metadata": {},
   "outputs": [],
   "source": [
    "with open(\"../../results/food_inspections/2021-03-15/consecutive-inspections-2021-03-15.pkl\", 'rb') as handle:\n",
    "    bd_consecutiva = pickle.load(handle)"
   ]
  },
  {
   "cell_type": "code",
   "execution_count": null,
   "metadata": {},
   "outputs": [],
   "source": [
    "pd.DataFrame(bd_consecutiva).head()"
   ]
  },
  {
   "cell_type": "code",
   "execution_count": null,
   "metadata": {},
   "outputs": [],
   "source": []
  },
  {
   "cell_type": "code",
   "execution_count": null,
   "metadata": {},
   "outputs": [],
   "source": []
  },
  {
   "cell_type": "code",
   "execution_count": 166,
   "metadata": {},
   "outputs": [
    {
     "name": "stdout",
     "output_type": "stream",
     "text": [
      "Overwriting LuigiTasks2.py\n"
     ]
    }
   ],
   "source": [
    "%%file LuigiTasks2.py\n",
    "\n",
    "import luigi\n",
    "from src.utils import general as gral\n",
    "from src.pipeline import ingesta_almacenamiento as ing\n",
    "from src.pipeline.LuigiIngestionTasks import IngestionTask\n",
    "import src.utils.constants as cte\n",
    "from datetime import date, timedelta, datetime\n",
    "import pickle\n",
    "\n",
    "class ExportFileTask(luigi.Task):\n",
    "    \n",
    "    path_cred = luigi.Parameter(default = 'credentials.yaml')\n",
    "    initial = luigi.BoolParameter(default=True, parsing = luigi.BoolParameter.EXPLICIT_PARSING)\n",
    "    limit = luigi.IntParameter(default = 300000)\n",
    "    date = luigi.DateParameter(default = None)\n",
    "    bucket_path = luigi.Parameter(default = 'data-product-architecture-equipo-n')\n",
    "    \n",
    "    # Se requiere IngestionTask\n",
    "    def requires(self):\n",
    "        return IngestionTask(self.path_cred, self.initial, self.limit, self.date)\n",
    "    \n",
    "    # Se carga el archivo a ser usado\n",
    "    def input(self):\n",
    "        \n",
    "        if self.initial:\n",
    "            file_name = cte.BUCKET_PATH_HIST + '{}.pkl'.format(self.date)\n",
    "        else:\n",
    "            file_name = cte.BUCKET_PATH_CONS + '{}.pkl'.format(self.date)\n",
    "        \n",
    "        with open(file_name, 'rb') as f:\n",
    "            data = pickle.load(f)\n",
    "\n",
    "        return data\n",
    "\n",
    "    \n",
    "    def run(self):\n",
    "        \n",
    "        if self.initial:\n",
    "            file_type = cte.BUCKET_PATH_HIST \n",
    "        else:\n",
    "            file_type = cte.BUCKET_PATH_CONS\n",
    "                    \n",
    "        data = self.input()\n",
    "        \n",
    "        ing.guardar_ingesta(\n",
    "            path_cred = self.path_cred, \n",
    "            bucket = self.bucket_path, \n",
    "            bucket_path = file_type, \n",
    "            data = data\n",
    "        )\n",
    "\n",
    "    \n",
    "            \n",
    "if __name__ == '__main__':\n",
    "    luigi.run()"
   ]
  },
  {
   "cell_type": "code",
   "execution_count": null,
   "metadata": {},
   "outputs": [],
   "source": [
    "%%bash\n",
    "PYTHONPATH='.' luigi \\\n",
    "--module src.pipeline.LuigiTasks2 ExportFileTask \\\n",
    "--path-cred ./conf/local/credentials.yaml \\\n",
    "--initial false \\\n",
    "--limit 1000 \\\n",
    "--date '2021-0-15' \\\n",
    "--bucket-path 'data-product-architecture-equipo-n'\n",
    "--local-scheduler \\\n"
   ]
  },
  {
   "cell_type": "code",
   "execution_count": null,
   "metadata": {},
   "outputs": [],
   "source": [
    "%%bash\n",
    "PYTHONPATH='.' luigi \\\n",
    "--module src.pipeline.LuigiTasks2 ExportFileTask \\\n",
    "--path-cred ./conf/local/credentials.yaml \\\n",
    "--initial true \\\n",
    "--limit 300000 \\\n",
    "--date '2021-03-15' \\\n",
    "--bucket-path 'data-product-architecture-equipo-n'\n",
    "--local-scheduler \\\n"
   ]
  },
  {
   "cell_type": "code",
   "execution_count": null,
   "metadata": {},
   "outputs": [],
   "source": [
    "%%bash\n",
    "PYTHONPATH='.' luigi \\\n",
    "--module src.pipeline.LuigiTasks2 ExportFileTask \\\n",
    "--path-cred ./conf/local/credentials.yaml \\\n",
    "--initial false \\\n",
    "--limit 1000 \\\n",
    "--date '2021-03-15' \\\n",
    "--bucket-path 'data-product-architecture-equipo-n'"
   ]
  },
  {
   "cell_type": "code",
   "execution_count": null,
   "metadata": {},
   "outputs": [],
   "source": []
  },
  {
   "cell_type": "code",
   "execution_count": 3,
   "metadata": {},
   "outputs": [],
   "source": [
    "file_name = '../../' + cte.BUCKET_PATH_HIST + '2021-02-21.pkl'"
   ]
  },
  {
   "cell_type": "code",
   "execution_count": 4,
   "metadata": {},
   "outputs": [],
   "source": [
    "with open(file_name, 'rb') as f:\n",
    "            data = pickle.load(f)"
   ]
  },
  {
   "cell_type": "code",
   "execution_count": null,
   "metadata": {},
   "outputs": [],
   "source": [
    "data"
   ]
  },
  {
   "cell_type": "code",
   "execution_count": 8,
   "metadata": {},
   "outputs": [],
   "source": [
    "data = pd.DataFrame(data)"
   ]
  },
  {
   "cell_type": "code",
   "execution_count": 9,
   "metadata": {},
   "outputs": [
    {
     "data": {
      "text/plain": [
       "(216666, 17)"
      ]
     },
     "execution_count": 9,
     "metadata": {},
     "output_type": "execute_result"
    }
   ],
   "source": [
    "data.shape"
   ]
  }
 ],
 "metadata": {
  "kernelspec": {
   "display_name": "Python 3",
   "language": "python",
   "name": "python3"
  },
  "language_info": {
   "codemirror_mode": {
    "name": "ipython",
    "version": 3
   },
   "file_extension": ".py",
   "mimetype": "text/x-python",
   "name": "python",
   "nbconvert_exporter": "python",
   "pygments_lexer": "ipython3",
   "version": "3.7.4"
  }
 },
 "nbformat": 4,
 "nbformat_minor": 4
}
